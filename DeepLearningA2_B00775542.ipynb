{
 "cells": [
  {
   "cell_type": "markdown",
   "metadata": {
    "colab_type": "text",
    "id": "JLrHFHoMHI3g"
   },
   "source": [
    "# <center>Assignment 2</center>"
   ]
  },
  {
   "cell_type": "markdown",
   "metadata": {
    "colab_type": "text",
    "id": "f1v-gL4cHI3h"
   },
   "source": [
    "This assignment is based on the tensorflow tutorial. You can choose to code in Python2 or Python3. All the imports made in this notebook are as below; if these imports work, you are (mostly) set to complete the assignment."
   ]
  },
  {
   "cell_type": "code",
   "execution_count": 0,
   "metadata": {
    "colab": {
     "autoexec": {
      "startup": false,
      "wait_interval": 0
     }
    },
    "colab_type": "code",
    "collapsed": true,
    "id": "_ccE1kI0HI3i"
   },
   "outputs": [],
   "source": [
    "from __future__ import print_function,division\n",
    "import random \n",
    "import tensorflow as tf\n",
    "import numpy as np"
   ]
  },
  {
   "cell_type": "markdown",
   "metadata": {
    "colab_type": "text",
    "id": "vWzfE86tusct"
   },
   "source": [
    "## Tensorflow - Matrix Operations"
   ]
  },
  {
   "cell_type": "markdown",
   "metadata": {
    "colab_type": "text",
    "id": "fVYXpj5bHI3m"
   },
   "source": [
    "All the following questions should be solved without using any of python's in-built control structures : for, while, if-else, etc. In addition to the tutorial material, you may find these functions useful:\n",
    "* tf.cast\n",
    "* tf.range\n",
    "* tf.pow\n",
    "\n",
    "Also, the following functions are used in later part of the assignment: tf.sqrt and tf.square. "
   ]
  },
  {
   "cell_type": "markdown",
   "metadata": {
    "colab_type": "text",
    "id": "zF2qLN2wHI3n"
   },
   "source": [
    "### 1. Alternating addition"
   ]
  },
  {
   "cell_type": "code",
   "execution_count": 0,
   "metadata": {
    "colab": {
     "autoexec": {
      "startup": false,
      "wait_interval": 0
     }
    },
    "colab_type": "code",
    "collapsed": true,
    "id": "XRnQN-v_HI3p"
   },
   "outputs": [],
   "source": [
    "def alt_addition():\n",
    "    \"\"\"\n",
    "        Given a 1d-matrix of 1 x n, compute the alternating addition.\n",
    "        Ex: If A is\n",
    "        1 2 3 4 5 6 7 8 9\n",
    "        the return value should be 1 - 2 + 3 - 4 + 5 - 6 + 7 - 8 + 9.\n",
    "        Your solution shouldn't include the use of tf.where or tf.boolean_mask. \n",
    "        It should include only mathematical operations.\n",
    "    \"\"\"\n",
    "    A = tf.placeholder(dtype=tf.float64,shape=[1,None])\n",
    "    # Write code to compute B.\n",
    "    B=(tf.cast(tf.mod(tf.range(1,tf.shape(A)[1]+1,1),2),dtype=tf.float64)*2)-1\n",
    "    B=tf.reduce_sum(tf.multiply(A,B))\n",
    "    \n",
    "    return A,B"
   ]
  },
  {
   "cell_type": "code",
   "execution_count": 0,
   "metadata": {
    "colab": {
     "autoexec": {
      "startup": false,
      "wait_interval": 0
     }
    },
    "colab_type": "code",
    "collapsed": true,
    "id": "oYdnpKb9HI3r"
   },
   "outputs": [],
   "source": [
    "A,B = alt_addition()"
   ]
  },
  {
   "cell_type": "code",
   "execution_count": 11,
   "metadata": {
    "colab": {
     "autoexec": {
      "startup": false,
      "wait_interval": 0
     },
     "base_uri": "https://localhost:8080/",
     "height": 102
    },
    "colab_type": "code",
    "executionInfo": {
     "elapsed": 491,
     "status": "ok",
     "timestamp": 1527368802591,
     "user": {
      "displayName": "Nikhil Dhirmalani",
      "photoUrl": "https://lh3.googleusercontent.com/a/default-user=s128",
      "userId": "117732879546167846741"
     },
     "user_tz": 180
    },
    "id": "DfONnxCQHI3t",
    "outputId": "66cd7692-6a0a-4b88-975a-8f180f054433"
   },
   "outputs": [
    {
     "name": "stdout",
     "output_type": "stream",
     "text": [
      "Correct!\n",
      "Correct!\n",
      "Correct!\n",
      "Correct!\n",
      "Correct!\n"
     ]
    }
   ],
   "source": [
    "# Just run this cell after completing the function alt_addition.\n",
    "def compute_alt(array):\n",
    "    sum_ = 0\n",
    "    for ind,i in enumerate(array):\n",
    "        if ind%2 == 0:\n",
    "            sum_ += i\n",
    "        else:\n",
    "            sum_ -= i\n",
    "    return sum_\n",
    "sess = tf.InteractiveSession()\n",
    "for num in [5,10,13,20,100]:\n",
    "    x = np.random.randn(num)\n",
    "    b = sess.run(B,feed_dict={A:x.reshape([1,-1])})\n",
    "    sum_ = compute_alt(x)\n",
    "    if abs(b - sum_) < 10**-10:\n",
    "        print(\"Correct!\")\n",
    "    else:\n",
    "        print(\"Incorrect.\")"
   ]
  },
  {
   "cell_type": "markdown",
   "metadata": {
    "colab_type": "text",
    "id": "dp0kSC_IHI3v"
   },
   "source": [
    "## 2. Odd Square and Even Cube"
   ]
  },
  {
   "cell_type": "code",
   "execution_count": 0,
   "metadata": {
    "colab": {
     "autoexec": {
      "startup": false,
      "wait_interval": 0
     }
    },
    "colab_type": "code",
    "collapsed": true,
    "id": "1VpsEt5eHI3v"
   },
   "outputs": [],
   "source": [
    "def sq_cube():\n",
    "    \"\"\"\n",
    "    Given a 2-d matrix of dimensions N x N, square the odd elements and cube the even elements.\n",
    "    Your solution shouldn't include the use of tf.where or tf.boolean_mask. \n",
    "    It should include only mathematical operations.\n",
    "    \"\"\"\n",
    "    A = tf.placeholder(dtype=tf.float64,shape=[None,None])\n",
    "    B=tf.ones(tf.shape(A))*3\n",
    "    B = tf.add(tf.square(A*tf.mod(A,2)),tf.pow(A*((tf.mod(A,2)-1)*-1),tf.cast(B,dtype=tf.float64)))\n",
    "    return A,B"
   ]
  },
  {
   "cell_type": "code",
   "execution_count": 0,
   "metadata": {
    "colab": {
     "autoexec": {
      "startup": false,
      "wait_interval": 0
     }
    },
    "colab_type": "code",
    "collapsed": true,
    "id": "mOxsb_GOHI3y"
   },
   "outputs": [],
   "source": [
    "A,B = sq_cube()"
   ]
  },
  {
   "cell_type": "code",
   "execution_count": 6,
   "metadata": {
    "colab": {
     "autoexec": {
      "startup": false,
      "wait_interval": 0
     },
     "base_uri": "https://localhost:8080/",
     "height": 68
    },
    "colab_type": "code",
    "executionInfo": {
     "elapsed": 270,
     "status": "ok",
     "timestamp": 1527374865708,
     "user": {
      "displayName": "Nikhil Dhirmalani",
      "photoUrl": "https://lh3.googleusercontent.com/a/default-user=s128",
      "userId": "117732879546167846741"
     },
     "user_tz": 180
    },
    "id": "Y5Q8BdQTHI3z",
    "outputId": "1974a754-84e5-46ba-9260-f90957d23546"
   },
   "outputs": [
    {
     "name": "stdout",
     "output_type": "stream",
     "text": [
      "Correct!\n",
      "Correct!\n",
      "Correct!\n"
     ]
    }
   ],
   "source": [
    "# Just run this cell after completing the function sq_cube.\n",
    "def compute_sq_cube(array):\n",
    "    m = [[0 for _ in range(len(array[0]))] for _ in range(len(array))]\n",
    "    for row_ in range(len(array)):\n",
    "        for col_ in range(len(array[row_])):\n",
    "            m[row_][col_] = array[row_][col_]**3 if array[row_][col_]%2==0 else array[row_][col_]**2\n",
    "    return m\n",
    "sess = tf.InteractiveSession()\n",
    "for num in [5,10,20]:\n",
    "    x = np.array(range(num*num)).reshape([num,num])\n",
    "    b = sess.run(B,feed_dict={A:x})\n",
    "    res = compute_sq_cube(x.tolist())\n",
    "    if (abs(b - res) < 10**-10).all():\n",
    "        print(\"Correct!\")\n",
    "    else:\n",
    "        print(\"Incorrect.\")"
   ]
  },
  {
   "cell_type": "markdown",
   "metadata": {
    "colab_type": "text",
    "id": "A8JgEswBHI32"
   },
   "source": [
    "## 3. Tensorflow differentiation"
   ]
  },
  {
   "cell_type": "markdown",
   "metadata": {
    "colab_type": "text",
    "id": "1kCk5IveHI33"
   },
   "source": [
    "In this question, you will learn about tf.gradients. Essentially, tf.gradients(p,q) gives dp/dq. "
   ]
  },
  {
   "cell_type": "code",
   "execution_count": 0,
   "metadata": {
    "colab": {
     "autoexec": {
      "startup": false,
      "wait_interval": 0
     }
    },
    "colab_type": "code",
    "collapsed": true,
    "id": "OnI5N3q9HI33"
   },
   "outputs": [],
   "source": [
    "x = tf.placeholder(tf.float32)\n",
    "y = tf.sqrt(tf.square(x))\n",
    "dy_dx = tf.gradients(y,x)"
   ]
  },
  {
   "cell_type": "markdown",
   "metadata": {
    "colab_type": "text",
    "id": "vkyKbw87HI36"
   },
   "source": [
    "Essentially, y = x. And, as you know dy/dx = 1.  "
   ]
  },
  {
   "cell_type": "code",
   "execution_count": 0,
   "metadata": {
    "colab": {
     "autoexec": {
      "startup": false,
      "wait_interval": 0
     }
    },
    "colab_type": "code",
    "collapsed": true,
    "id": "E7tOERJIHI37"
   },
   "outputs": [],
   "source": [
    "sess = tf.Session()\n",
    "sess.run(dy_dx,feed_dict={x:10})\n",
    "writer = tf.summary.FileWriter('logs', sess.graph)"
   ]
  },
  {
   "cell_type": "markdown",
   "metadata": {
    "colab_type": "text",
    "id": "TUoV3AeSHI39"
   },
   "source": [
    "And it is 1! Now, let's try for some other values"
   ]
  },
  {
   "cell_type": "code",
   "execution_count": 6,
   "metadata": {
    "colab": {
     "autoexec": {
      "startup": false,
      "wait_interval": 0
     },
     "base_uri": "https://localhost:8080/",
     "height": 34
    },
    "colab_type": "code",
    "executionInfo": {
     "elapsed": 364,
     "status": "ok",
     "timestamp": 1527305904764,
     "user": {
      "displayName": "Nikhil Dhirmalani",
      "photoUrl": "https://lh3.googleusercontent.com/a/default-user=s128",
      "userId": "117732879546167846741"
     },
     "user_tz": 180
    },
    "id": "qM2fZcRIHI3-",
    "outputId": "1991f137-8761-4d04-ce0d-d238d4851b2f"
   },
   "outputs": [
    {
     "data": {
      "text/plain": [
       "[nan]"
      ]
     },
     "execution_count": 6,
     "metadata": {
      "tags": []
     },
     "output_type": "execute_result"
    }
   ],
   "source": [
    "sess.run(dy_dx,feed_dict={x:0})"
   ]
  },
  {
   "cell_type": "code",
   "execution_count": 7,
   "metadata": {
    "colab": {
     "autoexec": {
      "startup": false,
      "wait_interval": 0
     },
     "base_uri": "https://localhost:8080/",
     "height": 34
    },
    "colab_type": "code",
    "executionInfo": {
     "elapsed": 333,
     "status": "ok",
     "timestamp": 1527305905520,
     "user": {
      "displayName": "Nikhil Dhirmalani",
      "photoUrl": "https://lh3.googleusercontent.com/a/default-user=s128",
      "userId": "117732879546167846741"
     },
     "user_tz": 180
    },
    "id": "WRq9u71JHI4A",
    "outputId": "9fabb9f2-805f-4cbb-d97d-20fad2af7442"
   },
   "outputs": [
    {
     "data": {
      "text/plain": [
       "[inf]"
      ]
     },
     "execution_count": 7,
     "metadata": {
      "tags": []
     },
     "output_type": "execute_result"
    }
   ],
   "source": [
    "sess.run(dy_dx,feed_dict={x:10**-20})"
   ]
  },
  {
   "cell_type": "code",
   "execution_count": 8,
   "metadata": {
    "colab": {
     "autoexec": {
      "startup": false,
      "wait_interval": 0
     },
     "base_uri": "https://localhost:8080/",
     "height": 34
    },
    "colab_type": "code",
    "executionInfo": {
     "elapsed": 427,
     "status": "ok",
     "timestamp": 1527305906187,
     "user": {
      "displayName": "Nikhil Dhirmalani",
      "photoUrl": "https://lh3.googleusercontent.com/a/default-user=s128",
      "userId": "117732879546167846741"
     },
     "user_tz": 180
    },
    "id": "H53wUU3SSPWD",
    "outputId": "156cd91a-17eb-4293-bba6-f33ae310d7f7"
   },
   "outputs": [
    {
     "data": {
      "text/plain": [
       "[1.0]"
      ]
     },
     "execution_count": 8,
     "metadata": {
      "tags": []
     },
     "output_type": "execute_result"
    }
   ],
   "source": [
    "x = tf.placeholder(tf.float64)\n",
    "y = tf.sqrt(tf.square(x))\n",
    "dy_dx = tf.gradients(y,x)\n",
    "sess.run(dy_dx,feed_dict={x:10**-20})"
   ]
  },
  {
   "cell_type": "markdown",
   "metadata": {
    "colab_type": "text",
    "id": "MJQ2--2mHI4C"
   },
   "source": [
    "Oops! We got nan and inf even though the derivative(limit) exists!! Explain why.\n",
    "\n",
    "**Mathematical approach **\n",
    "\n",
    "<b>Answer:</b> <i>For the above function, if you take square root of square of x, you get the value of y=+x and y=-x. It becomes equal to y=|x| and |x| is not differentiable at x=0, because left and right limits are not the same at x=0, the limit does not exist. \n",
    "\n",
    "The function's graph has a kink, like the letter V has. The absolute value function, which is x when x is positive and –x when x is negative has a kink at x = 0.\n",
    "\n",
    "For second example we have used float32 so it makes value of x=0 and hence becomes undefined. I have changed it to float64 and I am getting the results correctly. </i>\n",
    "\n",
    "\n",
    "Further, come up with another function of x which shows similar behavior and demonstrate it below. Do not use trivial modifications of the above function like (x\\*\\*3)**1/3. In other words, demonstrate a function which gives the derivative as equal to nan/inf even though the derivative is defined. "
   ]
  },
  {
   "cell_type": "code",
   "execution_count": 0,
   "metadata": {
    "colab": {
     "autoexec": {
      "startup": false,
      "wait_interval": 0
     }
    },
    "colab_type": "code",
    "collapsed": true,
    "id": "l0XfDwm2RzL-"
   },
   "outputs": [],
   "source": [
    "x = tf.placeholder(tf.float32)\n",
    "y = tf.sin(tf.reciprocal(x))\n",
    "dy_dx = tf.gradients(y,x)"
   ]
  },
  {
   "cell_type": "code",
   "execution_count": 10,
   "metadata": {
    "colab": {
     "autoexec": {
      "startup": false,
      "wait_interval": 0
     },
     "base_uri": "https://localhost:8080/",
     "height": 34
    },
    "colab_type": "code",
    "executionInfo": {
     "elapsed": 266,
     "status": "ok",
     "timestamp": 1527305908095,
     "user": {
      "displayName": "Nikhil Dhirmalani",
      "photoUrl": "https://lh3.googleusercontent.com/a/default-user=s128",
      "userId": "117732879546167846741"
     },
     "user_tz": 180
    },
    "id": "P9Q7O_9KSM_b",
    "outputId": "8c1a1a3b-1ef2-4753-cf09-ed00ad18c608"
   },
   "outputs": [
    {
     "data": {
      "text/plain": [
       "[nan]"
      ]
     },
     "execution_count": 10,
     "metadata": {
      "tags": []
     },
     "output_type": "execute_result"
    }
   ],
   "source": [
    "sess.run(dy_dx,feed_dict={x:0})"
   ]
  },
  {
   "cell_type": "code",
   "execution_count": 11,
   "metadata": {
    "colab": {
     "autoexec": {
      "startup": false,
      "wait_interval": 0
     },
     "base_uri": "https://localhost:8080/",
     "height": 34
    },
    "colab_type": "code",
    "executionInfo": {
     "elapsed": 262,
     "status": "ok",
     "timestamp": 1527305908865,
     "user": {
      "displayName": "Nikhil Dhirmalani",
      "photoUrl": "https://lh3.googleusercontent.com/a/default-user=s128",
      "userId": "117732879546167846741"
     },
     "user_tz": 180
    },
    "id": "Z4tm-GVvSTn5",
    "outputId": "ab7ad3e0-381c-49cb-d571-631852439973"
   },
   "outputs": [
    {
     "data": {
      "text/plain": [
       "[-inf]"
      ]
     },
     "execution_count": 11,
     "metadata": {
      "tags": []
     },
     "output_type": "execute_result"
    }
   ],
   "source": [
    "sess.run(dy_dx,feed_dict={x:10**-21})"
   ]
  },
  {
   "cell_type": "markdown",
   "metadata": {
    "colab_type": "text",
    "id": "USsYnjZBKaS7"
   },
   "source": [
    "**References:**\n",
    "\n",
    "https://math.stackexchange.com/questions/991475/why-is-the-absolute-value-function-not-differentiable-at-x-0/991559\n",
    "\n",
    "http://www-math.mit.edu/~djk/calculus_beginners/chapter09/section02.html"
   ]
  },
  {
   "cell_type": "markdown",
   "metadata": {
    "colab_type": "text",
    "id": "v1uoJlZMcs8c"
   },
   "source": [
    "**TensorFlow approach**\n",
    "\n",
    "First it calculates the gradient of sqrt(x^2) i.e. 1/2 *1/x after that it calculates the gradient of square(x) i.e. 2x which it multiplies and we get answer one. Now computing for zero when it computes for sqrt(x^2) it gets value infinite. "
   ]
  },
  {
   "cell_type": "code",
   "execution_count": 8,
   "metadata": {
    "colab": {
     "autoexec": {
      "startup": false,
      "wait_interval": 0
     },
     "base_uri": "https://localhost:8080/",
     "height": 34
    },
    "colab_type": "code",
    "executionInfo": {
     "elapsed": 280,
     "status": "ok",
     "timestamp": 1527374922100,
     "user": {
      "displayName": "Nikhil Dhirmalani",
      "photoUrl": "https://lh3.googleusercontent.com/a/default-user=s128",
      "userId": "117732879546167846741"
     },
     "user_tz": 180
    },
    "id": "gKAlgXIDhZqu",
    "outputId": "820c9549-4a34-4b8b-c5ab-fe9cc45f7caf"
   },
   "outputs": [
    {
     "data": {
      "text/plain": [
       "[nan]"
      ]
     },
     "execution_count": 8,
     "metadata": {
      "tags": []
     },
     "output_type": "execute_result"
    }
   ],
   "source": [
    "x = tf.placeholder(tf.float32)\n",
    "y =x * (tf.reciprocal(x))\n",
    "dy_dx = tf.gradients(y,x)\n",
    "\n",
    "\n",
    "sess.run(dy_dx,feed_dict={x:0})\n"
   ]
  },
  {
   "cell_type": "markdown",
   "metadata": {
    "colab_type": "text",
    "id": "DP2BKDfRfbpB"
   },
   "source": [
    "**References**\n",
    "\n",
    "https://stackoverflow.com/questions/44342432/is-gradient-in-the-tensorflows-graph-calculated-incorrectly\n"
   ]
  },
  {
   "cell_type": "code",
   "execution_count": 0,
   "metadata": {
    "colab": {
     "autoexec": {
      "startup": false,
      "wait_interval": 0
     }
    },
    "colab_type": "code",
    "collapsed": true,
    "id": "psrzYPFYhYoi"
   },
   "outputs": [],
   "source": []
  },
  {
   "cell_type": "markdown",
   "metadata": {
    "colab_type": "text",
    "id": "quJmBUClMzSj"
   },
   "source": [
    "## Links"
   ]
  },
  {
   "cell_type": "code",
   "execution_count": 0,
   "metadata": {
    "colab": {
     "autoexec": {
      "startup": false,
      "wait_interval": 0
     }
    },
    "colab_type": "code",
    "collapsed": true,
    "id": "2bsPZRfQM2X6"
   },
   "outputs": [],
   "source": []
  }
 ],
 "metadata": {
  "colab": {
   "collapsed_sections": [],
   "default_view": {},
   "name": "Copy of A2.ipynb",
   "provenance": [
    {
     "file_id": "1QwPUhI10qU3DiMI-DDZwCl3dVnPUc2IF",
     "timestamp": 1527285026063
    }
   ],
   "version": "0.3.2",
   "views": {}
  },
  "kernelspec": {
   "display_name": "Python 2",
   "language": "python",
   "name": "python2"
  },
  "language_info": {
   "codemirror_mode": {
    "name": "ipython",
    "version": 2
   },
   "file_extension": ".py",
   "mimetype": "text/x-python",
   "name": "python",
   "nbconvert_exporter": "python",
   "pygments_lexer": "ipython2",
   "version": "2.7.15"
  }
 },
 "nbformat": 4,
 "nbformat_minor": 1
}
