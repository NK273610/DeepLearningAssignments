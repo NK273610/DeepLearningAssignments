{
  "nbformat": 4,
  "nbformat_minor": 0,
  "metadata": {
    "colab": {
      "name": "CNN_Distillation",
      "version": "0.3.2",
      "provenance": [],
      "collapsed_sections": [],
      "include_colab_link": true
    },
    "kernelspec": {
      "name": "python3",
      "display_name": "Python 3"
    }
  },
  "cells": [
    {
      "cell_type": "markdown",
      "metadata": {
        "id": "view-in-github",
        "colab_type": "text"
      },
      "source": [
        "<a href=\"https://colab.research.google.com/github/NK273610/DeepLearningAssignments/blob/master/CNN_Distillation.ipynb\" target=\"_parent\"><img src=\"https://colab.research.google.com/assets/colab-badge.svg\" alt=\"Open In Colab\"/></a>"
      ]
    },
    {
      "metadata": {
        "id": "Cox0ULO0NxSs",
        "colab_type": "text"
      },
      "cell_type": "markdown",
      "source": [
        "## CNN Architecture Overview\n",
        "\n",
        "![CNN](http://personal.ie.cuhk.edu.hk/~ccloy/project_target_code/images/fig3.png)\n",
        "\n",
        "## MNIST Dataset Overview\n",
        "\n",
        "This example is using MNIST handwritten digits. The dataset contains 60,000 examples for training and 10,000 examples for testing. The digits have been size-normalized and centered in a fixed-size image (28x28 pixels) with values from 0 to 1. For simplicity, each image has been flattened and converted to a 1-D numpy array of 784 features (28*28).\n",
        "\n",
        "![MNIST Dataset](http://neuralnetworksanddeeplearning.com/images/mnist_100_digits.png)\n",
        "\n",
        "More info: http://yann.lecun.com/exdb/mnist/"
      ]
    },
    {
      "metadata": {
        "id": "SGq0wgRgaGft",
        "colab_type": "text"
      },
      "cell_type": "markdown",
      "source": [
        "#### Importing Important Libraries"
      ]
    },
    {
      "metadata": {
        "id": "QB-bgVhGNuiO",
        "colab_type": "code",
        "colab": {
          "base_uri": "https://localhost:8080/",
          "height": 34
        },
        "outputId": "5f56931b-3a45-4b8e-bfb6-2ab3f93044d6"
      },
      "cell_type": "code",
      "source": [
        "from __future__ import absolute_import, division, print_function\n",
        "import tensorflow as tf\n",
        "import numpy as np\n",
        "import pandas as pd\n",
        "import matplotlib.pyplot as plt\n",
        "from keras.utils import np_utils"
      ],
      "execution_count": 1,
      "outputs": [
        {
          "output_type": "stream",
          "text": [
            "Using TensorFlow backend.\n"
          ],
          "name": "stderr"
        }
      ]
    },
    {
      "metadata": {
        "id": "xWC33eedl5CO",
        "colab_type": "text"
      },
      "cell_type": "markdown",
      "source": [
        "####  Load the MNIST image data from the tensorflow datasets"
      ]
    },
    {
      "metadata": {
        "id": "s5tuslFqf1Wy",
        "colab_type": "code",
        "outputId": "c6443cc4-8048-4487-ea9d-73d824bb8348",
        "colab": {
          "base_uri": "https://localhost:8080/",
          "height": 700
        }
      },
      "cell_type": "code",
      "source": [
        "mnist = tf.contrib.learn.datasets.load_dataset(\"mnist\")\n",
        "train_data = mnist.train.images  # Returns a np.array\n",
        "train_labels = np.asarray(mnist.train.labels, dtype=np.int32)\n",
        "eval_data = mnist.test.images  # Returns a np.array\n",
        "eval_labels = np.asarray(mnist.test.labels, dtype=np.int32)"
      ],
      "execution_count": 2,
      "outputs": [
        {
          "output_type": "stream",
          "text": [
            "\n",
            "WARNING: The TensorFlow contrib module will not be included in TensorFlow 2.0.\n",
            "For more information, please see:\n",
            "  * https://github.com/tensorflow/community/blob/master/rfcs/20180907-contrib-sunset.md\n",
            "  * https://github.com/tensorflow/addons\n",
            "If you depend on functionality not listed there, please file an issue.\n",
            "\n",
            "WARNING:tensorflow:From <ipython-input-2-f0ce84d6e0a4>:1: load_dataset (from tensorflow.contrib.learn.python.learn.datasets) is deprecated and will be removed in a future version.\n",
            "Instructions for updating:\n",
            "Please use tf.data.\n",
            "WARNING:tensorflow:From /usr/local/lib/python3.6/dist-packages/tensorflow/contrib/learn/python/learn/datasets/__init__.py:80: load_mnist (from tensorflow.contrib.learn.python.learn.datasets.mnist) is deprecated and will be removed in a future version.\n",
            "Instructions for updating:\n",
            "Please use alternatives such as official/mnist/dataset.py from tensorflow/models.\n",
            "WARNING:tensorflow:From /usr/local/lib/python3.6/dist-packages/tensorflow/contrib/learn/python/learn/datasets/mnist.py:300: read_data_sets (from tensorflow.contrib.learn.python.learn.datasets.mnist) is deprecated and will be removed in a future version.\n",
            "Instructions for updating:\n",
            "Please use alternatives such as official/mnist/dataset.py from tensorflow/models.\n",
            "WARNING:tensorflow:From /usr/local/lib/python3.6/dist-packages/tensorflow/contrib/learn/python/learn/datasets/mnist.py:260: maybe_download (from tensorflow.contrib.learn.python.learn.datasets.base) is deprecated and will be removed in a future version.\n",
            "Instructions for updating:\n",
            "Please write your own downloading logic.\n",
            "WARNING:tensorflow:From /usr/local/lib/python3.6/dist-packages/tensorflow/contrib/learn/python/learn/datasets/base.py:252: _internal_retry.<locals>.wrap.<locals>.wrapped_fn (from tensorflow.contrib.learn.python.learn.datasets.base) is deprecated and will be removed in a future version.\n",
            "Instructions for updating:\n",
            "Please use urllib or similar directly.\n",
            "Successfully downloaded train-images-idx3-ubyte.gz 9912422 bytes.\n",
            "WARNING:tensorflow:From /usr/local/lib/python3.6/dist-packages/tensorflow/contrib/learn/python/learn/datasets/mnist.py:262: extract_images (from tensorflow.contrib.learn.python.learn.datasets.mnist) is deprecated and will be removed in a future version.\n",
            "Instructions for updating:\n",
            "Please use tf.data to implement this functionality.\n",
            "Extracting MNIST-data/train-images-idx3-ubyte.gz\n",
            "Successfully downloaded train-labels-idx1-ubyte.gz 28881 bytes.\n",
            "WARNING:tensorflow:From /usr/local/lib/python3.6/dist-packages/tensorflow/contrib/learn/python/learn/datasets/mnist.py:267: extract_labels (from tensorflow.contrib.learn.python.learn.datasets.mnist) is deprecated and will be removed in a future version.\n",
            "Instructions for updating:\n",
            "Please use tf.data to implement this functionality.\n",
            "Extracting MNIST-data/train-labels-idx1-ubyte.gz\n",
            "Successfully downloaded t10k-images-idx3-ubyte.gz 1648877 bytes.\n",
            "Extracting MNIST-data/t10k-images-idx3-ubyte.gz\n",
            "Successfully downloaded t10k-labels-idx1-ubyte.gz 4542 bytes.\n",
            "Extracting MNIST-data/t10k-labels-idx1-ubyte.gz\n",
            "WARNING:tensorflow:From /usr/local/lib/python3.6/dist-packages/tensorflow/contrib/learn/python/learn/datasets/mnist.py:290: DataSet.__init__ (from tensorflow.contrib.learn.python.learn.datasets.mnist) is deprecated and will be removed in a future version.\n",
            "Instructions for updating:\n",
            "Please use alternatives such as official/mnist/dataset.py from tensorflow/models.\n"
          ],
          "name": "stdout"
        }
      ]
    },
    {
      "metadata": {
        "id": "T25atx8qavcP",
        "colab_type": "text"
      },
      "cell_type": "markdown",
      "source": [
        "#### Setting Training and Network Parameters"
      ]
    },
    {
      "metadata": {
        "id": "3TyPC_r7oeti",
        "colab_type": "code",
        "colab": {}
      },
      "cell_type": "code",
      "source": [
        "# Training Parameters\n",
        "learning_rate = 0.001\n",
        "num_steps = 2000\n",
        "batch_size = 128\n",
        "\n",
        "# Network Parameters\n",
        "num_input = 784 # MNIST data input (img shape: 28*28)\n",
        "num_classes = 10 # MNIST total classes (0-9 digits)\n",
        "dropout = 0.25 # Dropout, probability to drop a unit"
      ],
      "execution_count": 0,
      "outputs": []
    },
    {
      "metadata": {
        "id": "L_ubfO1dmYGe",
        "colab_type": "code",
        "outputId": "53497f35-3735-4550-901a-a3f25ab4daaf",
        "colab": {
          "base_uri": "https://localhost:8080/",
          "height": 677
        }
      },
      "cell_type": "code",
      "source": [
        "for i in range(2):\n",
        "  image = train_data[i]\n",
        "  image = image.reshape((28, 28))\n",
        "  plt.imshow(image)\n",
        "  plt.show()\n"
      ],
      "execution_count": 4,
      "outputs": [
        {
          "output_type": "display_data",
          "data": {
            "image/png": "[encoded data removed]",
            "text/plain": [
              "<Figure size 576x396 with 1 Axes>"
            ]
          },
          "metadata": {
            "tags": []
          }
        },
        {
          "output_type": "display_data",
          "data": {
            "image/png": "[encoded data removed]",
            "text/plain": [
              "<Figure size 576x396 with 1 Axes>"
            ]
          },
          "metadata": {
            "tags": []
          }
        }
      ]
    },
    {
      "metadata": {
        "id": "qtG_b-1enFTo",
        "colab_type": "code",
        "colab": {}
      },
      "cell_type": "code",
      "source": [
        "# Create the neural network\n",
        "def conv_net(x_dict, n_classes, dropout, reuse, is_training):\n",
        "    \n",
        "    # Define a scope for reusing the variables\n",
        "    with tf.variable_scope('ConvNet', reuse=reuse):\n",
        "        # TF Estimator input is a dict, in case of multiple inputs\n",
        "        x = x_dict['images']\n",
        "\n",
        "        # MNIST data input is a 1-D vector of 784 features (28*28 pixels)\n",
        "        # Reshape to match picture format [Height x Width x Channel]\n",
        "        # Tensor input become 4-D: [Batch Size, Height, Width, Channel]\n",
        "        x = tf.reshape(x, shape=[-1, 28, 28, 1])\n",
        "\n",
        "        # Convolution Layer with 32 filters and a kernel size of 5\n",
        "        conv1 = tf.layers.conv2d(x, 32, 5, activation=tf.nn.relu)\n",
        "        # Max Pooling (down-sampling) with strides of 2 and kernel size of 2\n",
        "        conv1 = tf.layers.max_pooling2d(conv1, 2, 2)\n",
        "\n",
        "        # Convolution Layer with 64 filters and a kernel size of 3\n",
        "        conv2 = tf.layers.conv2d(conv1, 64, 3, activation=tf.nn.relu)\n",
        "        # Max Pooling (down-sampling) with strides of 2 and kernel size of 2\n",
        "        conv2 = tf.layers.max_pooling2d(conv2, 2, 2)\n",
        "\n",
        "        # Flatten the data to a 1-D vector for the fully connected layer\n",
        "        fc1 = tf.contrib.layers.flatten(conv2)\n",
        "\n",
        "        # Fully connected layer (in tf contrib folder for now)\n",
        "        fc1 = tf.layers.dense(fc1, 1024)\n",
        "        # Apply Dropout (if is_training is False, dropout is not applied)\n",
        "        fc1 = tf.layers.dropout(fc1, rate=dropout, training=is_training)\n",
        "\n",
        "        # Output layer, class prediction\n",
        "        out = tf.layers.dense(fc1, n_classes)\n",
        "\n",
        "    return out"
      ],
      "execution_count": 0,
      "outputs": []
    },
    {
      "metadata": {
        "id": "mJljNVCfoNPJ",
        "colab_type": "code",
        "colab": {}
      },
      "cell_type": "code",
      "source": [
        "# Define the model function (following TF Estimator Template)\n",
        "def model_fn(features, labels, mode):\n",
        "    \n",
        "    # Build the neural network\n",
        "    # Because Dropout have different behavior at training and prediction time, we\n",
        "    # need to create 2 distinct computation graphs that still share the same weights.\n",
        "    logits_train = conv_net(features, num_classes, dropout, reuse=False, is_training=True)\n",
        "    logits_test = conv_net(features, num_classes, dropout, reuse=True, is_training=False)\n",
        "    \n",
        "    # Predictions\n",
        "    pred_classes = tf.argmax(logits_test, axis=1)\n",
        "    pred_probas = tf.nn.softmax(logits_test)\n",
        "    \n",
        "    # If prediction mode, early return\n",
        "    if mode == tf.estimator.ModeKeys.PREDICT:\n",
        "        return tf.estimator.EstimatorSpec(mode, predictions={\"pred_class\":pred_classes,'pred_probas':pred_probas}) \n",
        "        \n",
        "    # Define loss and optimizer\n",
        "    loss_op = tf.reduce_mean(tf.nn.sparse_softmax_cross_entropy_with_logits(\n",
        "        logits=logits_train, labels=tf.cast(labels, dtype=tf.int32)))\n",
        "    optimizer = tf.train.AdamOptimizer(learning_rate=learning_rate)\n",
        "    train_op = optimizer.minimize(loss_op, global_step=tf.train.get_global_step())\n",
        "    \n",
        "    # Evaluate the accuracy of the model\n",
        "    acc_op = tf.metrics.accuracy(labels=labels, predictions=pred_classes)\n",
        "    \n",
        "    # TF Estimators requires to return a EstimatorSpec, that specify\n",
        "    # the different ops for training, evaluating, ...\n",
        "    estim_specs = tf.estimator.EstimatorSpec(\n",
        "      mode=mode,\n",
        "      predictions=pred_classes,\n",
        "      loss=loss_op,\n",
        "      train_op=train_op,\n",
        "      eval_metric_ops={'accuracy': acc_op})\n",
        "\n",
        "    return estim_specs"
      ],
      "execution_count": 0,
      "outputs": []
    },
    {
      "metadata": {
        "id": "Kt4ZUuJdxDUM",
        "colab_type": "code",
        "outputId": "67786985-ae3a-4f5b-eb91-87b0baf37c23",
        "colab": {
          "base_uri": "https://localhost:8080/",
          "height": 190
        }
      },
      "cell_type": "code",
      "source": [
        "# Build the Estimator\n",
        "model = tf.estimator.Estimator(model_fn)"
      ],
      "execution_count": 7,
      "outputs": [
        {
          "output_type": "stream",
          "text": [
            "INFO:tensorflow:Using default config.\n",
            "WARNING:tensorflow:Using temporary folder as model directory: /tmp/tmpzl6kwcy5\n",
            "INFO:tensorflow:Using config: {'_model_dir': '/tmp/tmpzl6kwcy5', '_tf_random_seed': None, '_save_summary_steps': 100, '_save_checkpoints_steps': None, '_save_checkpoints_secs': 600, '_session_config': allow_soft_placement: true\n",
            "graph_options {\n",
            "  rewrite_options {\n",
            "    meta_optimizer_iterations: ONE\n",
            "  }\n",
            "}\n",
            ", '_keep_checkpoint_max': 5, '_keep_checkpoint_every_n_hours': 10000, '_log_step_count_steps': 100, '_train_distribute': None, '_device_fn': None, '_protocol': None, '_eval_distribute': None, '_experimental_distribute': None, '_service': None, '_cluster_spec': <tensorflow.python.training.server_lib.ClusterSpec object at 0x7f28fe574cf8>, '_task_type': 'worker', '_task_id': 0, '_global_id_in_cluster': 0, '_master': '', '_evaluation_master': '', '_is_chief': True, '_num_ps_replicas': 0, '_num_worker_replicas': 1}\n"
          ],
          "name": "stdout"
        }
      ]
    },
    {
      "metadata": {
        "id": "xcKyqTovxWrA",
        "colab_type": "code",
        "outputId": "704e6427-3c4b-4c49-d87b-8d4e4140abe2",
        "colab": {
          "base_uri": "https://localhost:8080/",
          "height": 1431
        }
      },
      "cell_type": "code",
      "source": [
        "# Define the input function for training\n",
        "input_fn = tf.estimator.inputs.numpy_input_fn(\n",
        "    x={'images': mnist.train.images}, y=mnist.train.labels,\n",
        "    batch_size=batch_size, num_epochs=None, shuffle=True)\n",
        "# Train the Model\n",
        "model.train(input_fn, steps=num_steps)"
      ],
      "execution_count": 8,
      "outputs": [
        {
          "output_type": "stream",
          "text": [
            "WARNING:tensorflow:From /usr/local/lib/python3.6/dist-packages/tensorflow/python/framework/op_def_library.py:263: colocate_with (from tensorflow.python.framework.ops) is deprecated and will be removed in a future version.\n",
            "Instructions for updating:\n",
            "Colocations handled automatically by placer.\n",
            "WARNING:tensorflow:From /usr/local/lib/python3.6/dist-packages/tensorflow_estimator/python/estimator/inputs/queues/feeding_queue_runner.py:62: QueueRunner.__init__ (from tensorflow.python.training.queue_runner_impl) is deprecated and will be removed in a future version.\n",
            "Instructions for updating:\n",
            "To construct input pipelines, use the `tf.data` module.\n",
            "WARNING:tensorflow:From /usr/local/lib/python3.6/dist-packages/tensorflow_estimator/python/estimator/inputs/queues/feeding_functions.py:500: add_queue_runner (from tensorflow.python.training.queue_runner_impl) is deprecated and will be removed in a future version.\n",
            "Instructions for updating:\n",
            "To construct input pipelines, use the `tf.data` module.\n",
            "INFO:tensorflow:Calling model_fn.\n",
            "WARNING:tensorflow:From <ipython-input-5-7d17c018e158>:14: conv2d (from tensorflow.python.layers.convolutional) is deprecated and will be removed in a future version.\n",
            "Instructions for updating:\n",
            "Use keras.layers.conv2d instead.\n",
            "WARNING:tensorflow:From <ipython-input-5-7d17c018e158>:16: max_pooling2d (from tensorflow.python.layers.pooling) is deprecated and will be removed in a future version.\n",
            "Instructions for updating:\n",
            "Use keras.layers.max_pooling2d instead.\n",
            "WARNING:tensorflow:From /usr/local/lib/python3.6/dist-packages/tensorflow/contrib/layers/python/layers/layers.py:1624: flatten (from tensorflow.python.layers.core) is deprecated and will be removed in a future version.\n",
            "Instructions for updating:\n",
            "Use keras.layers.flatten instead.\n",
            "WARNING:tensorflow:From <ipython-input-5-7d17c018e158>:27: dense (from tensorflow.python.layers.core) is deprecated and will be removed in a future version.\n",
            "Instructions for updating:\n",
            "Use keras.layers.dense instead.\n",
            "WARNING:tensorflow:From <ipython-input-5-7d17c018e158>:29: dropout (from tensorflow.python.layers.core) is deprecated and will be removed in a future version.\n",
            "Instructions for updating:\n",
            "Use keras.layers.dropout instead.\n",
            "WARNING:tensorflow:From /usr/local/lib/python3.6/dist-packages/tensorflow/python/keras/layers/core.py:143: calling dropout (from tensorflow.python.ops.nn_ops) with keep_prob is deprecated and will be removed in a future version.\n",
            "Instructions for updating:\n",
            "Please use `rate` instead of `keep_prob`. Rate should be set to `rate = 1 - keep_prob`.\n",
            "WARNING:tensorflow:From /usr/local/lib/python3.6/dist-packages/tensorflow/python/ops/metrics_impl.py:455: to_float (from tensorflow.python.ops.math_ops) is deprecated and will be removed in a future version.\n",
            "Instructions for updating:\n",
            "Use tf.cast instead.\n",
            "INFO:tensorflow:Done calling model_fn.\n",
            "INFO:tensorflow:Create CheckpointSaverHook.\n",
            "INFO:tensorflow:Graph was finalized.\n",
            "INFO:tensorflow:Running local_init_op.\n",
            "INFO:tensorflow:Done running local_init_op.\n",
            "WARNING:tensorflow:From /usr/local/lib/python3.6/dist-packages/tensorflow/python/training/monitored_session.py:809: start_queue_runners (from tensorflow.python.training.queue_runner_impl) is deprecated and will be removed in a future version.\n",
            "Instructions for updating:\n",
            "To construct input pipelines, use the `tf.data` module.\n",
            "INFO:tensorflow:Saving checkpoints for 0 into /tmp/tmpzl6kwcy5/model.ckpt.\n",
            "INFO:tensorflow:loss = 2.3264806, step = 1\n",
            "INFO:tensorflow:global_step/sec: 6.48687\n",
            "INFO:tensorflow:loss = 0.06611599, step = 101 (15.419 sec)\n",
            "INFO:tensorflow:global_step/sec: 6.52717\n",
            "INFO:tensorflow:loss = 0.19551526, step = 201 (15.320 sec)\n",
            "INFO:tensorflow:global_step/sec: 6.47408\n",
            "INFO:tensorflow:loss = 0.055553973, step = 301 (15.446 sec)\n",
            "INFO:tensorflow:global_step/sec: 6.36851\n",
            "INFO:tensorflow:loss = 0.031479403, step = 401 (15.704 sec)\n",
            "INFO:tensorflow:global_step/sec: 6.56618\n",
            "INFO:tensorflow:loss = 0.0532567, step = 501 (15.229 sec)\n",
            "INFO:tensorflow:global_step/sec: 6.51287\n",
            "INFO:tensorflow:loss = 0.020540882, step = 601 (15.353 sec)\n",
            "INFO:tensorflow:global_step/sec: 6.54813\n",
            "INFO:tensorflow:loss = 0.019387199, step = 701 (15.271 sec)\n",
            "INFO:tensorflow:global_step/sec: 6.59154\n",
            "INFO:tensorflow:loss = 0.12372725, step = 801 (15.170 sec)\n",
            "INFO:tensorflow:global_step/sec: 6.63287\n",
            "INFO:tensorflow:loss = 0.04017067, step = 901 (15.079 sec)\n",
            "INFO:tensorflow:global_step/sec: 6.53436\n",
            "INFO:tensorflow:loss = 0.030110497, step = 1001 (15.302 sec)\n",
            "INFO:tensorflow:global_step/sec: 6.63547\n",
            "INFO:tensorflow:loss = 0.019543072, step = 1101 (15.070 sec)\n",
            "INFO:tensorflow:global_step/sec: 6.59744\n",
            "INFO:tensorflow:loss = 0.008654612, step = 1201 (15.158 sec)\n",
            "INFO:tensorflow:global_step/sec: 6.62556\n",
            "INFO:tensorflow:loss = 0.012978677, step = 1301 (15.093 sec)\n",
            "INFO:tensorflow:global_step/sec: 6.53102\n",
            "INFO:tensorflow:loss = 0.05668097, step = 1401 (15.312 sec)\n",
            "INFO:tensorflow:global_step/sec: 6.48078\n",
            "INFO:tensorflow:loss = 0.0037305774, step = 1501 (15.429 sec)\n",
            "INFO:tensorflow:global_step/sec: 6.60026\n",
            "INFO:tensorflow:loss = 0.030808575, step = 1601 (15.151 sec)\n",
            "INFO:tensorflow:global_step/sec: 6.56752\n",
            "INFO:tensorflow:loss = 0.018094163, step = 1701 (15.229 sec)\n",
            "INFO:tensorflow:global_step/sec: 6.5496\n",
            "INFO:tensorflow:loss = 0.014328959, step = 1801 (15.265 sec)\n",
            "INFO:tensorflow:global_step/sec: 6.63352\n",
            "INFO:tensorflow:loss = 0.00083843735, step = 1901 (15.075 sec)\n",
            "INFO:tensorflow:Saving checkpoints for 2000 into /tmp/tmpzl6kwcy5/model.ckpt.\n",
            "INFO:tensorflow:Loss for final step: 0.02381975.\n"
          ],
          "name": "stdout"
        },
        {
          "output_type": "execute_result",
          "data": {
            "text/plain": [
              "<tensorflow_estimator.python.estimator.estimator.Estimator at 0x7f28fe5cfe10>"
            ]
          },
          "metadata": {
            "tags": []
          },
          "execution_count": 8
        }
      ]
    },
    {
      "metadata": {
        "id": "isjj5sm7NnXj",
        "colab_type": "code",
        "colab": {
          "base_uri": "https://localhost:8080/",
          "height": 275
        },
        "outputId": "5797f4bd-66a7-47d5-a8be-773cd282e300"
      },
      "cell_type": "code",
      "source": [
        "# Evaluate the Model\n",
        "# Define the input function for evaluating\n",
        "input_fn = tf.estimator.inputs.numpy_input_fn(\n",
        "    x={'images': mnist.test.images}, y=mnist.test.labels,\n",
        "    batch_size=batch_size, shuffle=False)\n",
        "# Use the Estimator 'evaluate' method\n",
        "model.evaluate(input_fn)"
      ],
      "execution_count": 9,
      "outputs": [
        {
          "output_type": "stream",
          "text": [
            "INFO:tensorflow:Calling model_fn.\n",
            "INFO:tensorflow:Done calling model_fn.\n",
            "INFO:tensorflow:Starting evaluation at 2019-03-16T23:30:52Z\n",
            "INFO:tensorflow:Graph was finalized.\n",
            "WARNING:tensorflow:From /usr/local/lib/python3.6/dist-packages/tensorflow/python/training/saver.py:1266: checkpoint_exists (from tensorflow.python.training.checkpoint_management) is deprecated and will be removed in a future version.\n",
            "Instructions for updating:\n",
            "Use standard file APIs to check for files with this prefix.\n",
            "INFO:tensorflow:Restoring parameters from /tmp/tmpzl6kwcy5/model.ckpt-2000\n",
            "INFO:tensorflow:Running local_init_op.\n",
            "INFO:tensorflow:Done running local_init_op.\n",
            "INFO:tensorflow:Finished evaluation at 2019-03-16-23:30:57\n",
            "INFO:tensorflow:Saving dict for global step 2000: accuracy = 0.9883, global_step = 2000, loss = 0.041659594\n",
            "INFO:tensorflow:Saving 'checkpoint_path' summary for global step 2000: /tmp/tmpzl6kwcy5/model.ckpt-2000\n"
          ],
          "name": "stdout"
        },
        {
          "output_type": "execute_result",
          "data": {
            "text/plain": [
              "{'accuracy': 0.9883, 'global_step': 2000, 'loss': 0.041659594}"
            ]
          },
          "metadata": {
            "tags": []
          },
          "execution_count": 9
        }
      ]
    },
    {
      "metadata": {
        "id": "vZzpnUI7mNCM",
        "colab_type": "code",
        "colab": {
          "base_uri": "https://localhost:8080/",
          "height": 1660
        },
        "outputId": "9637ee4d-9548-4775-958f-e54e3f5b1cc5"
      },
      "cell_type": "code",
      "source": [
        "# Predict single images\n",
        "n_images = 4\n",
        "# Get images from test set\n",
        "test_images = mnist.test.images[:n_images]\n",
        "# Prepare the input data\n",
        "input_fn = tf.estimator.inputs.numpy_input_fn(\n",
        "    x={'images': test_images}, shuffle=False)\n",
        "# Use the model to predict the images class\n",
        "preds =list(model.predict(input_fn))\n",
        "\n",
        "for i in range(len(preds)):\n",
        "  plt.imshow(np.reshape(test_images[i], [28, 28]))\n",
        "  plt.show()\n",
        "  print(\"Model prediction:\",preds[i]['pred_class'])\n",
        "  print(\"Probablities:\",preds[i]['pred_probas'])\n"
      ],
      "execution_count": 10,
      "outputs": [
        {
          "output_type": "stream",
          "text": [
            "INFO:tensorflow:Calling model_fn.\n",
            "INFO:tensorflow:Done calling model_fn.\n",
            "INFO:tensorflow:Graph was finalized.\n",
            "INFO:tensorflow:Restoring parameters from /tmp/tmpzl6kwcy5/model.ckpt-2000\n",
            "INFO:tensorflow:Running local_init_op.\n",
            "INFO:tensorflow:Done running local_init_op.\n"
          ],
          "name": "stdout"
        },
        {
          "output_type": "display_data",
          "data": {
            "image/png": "[encoded data removed]",
            "text/plain": [
              "<Figure size 576x396 with 1 Axes>"
            ]
          },
          "metadata": {
            "tags": []
          }
        },
        {
          "output_type": "stream",
          "text": [
            "Model prediction: 7\n",
            "Probablities: [1.9246182e-12 3.8034211e-12 2.1311701e-09 8.4298737e-09 1.0620493e-14\n",
            " 6.7582784e-12 2.3434339e-20 1.0000000e+00 5.3772736e-13 1.6984325e-10]\n"
          ],
          "name": "stdout"
        },
        {
          "output_type": "display_data",
          "data": {
            "image/png": "[encoded data removed]",
            "text/plain": [
              "<Figure size 576x396 with 1 Axes>"
            ]
          },
          "metadata": {
            "tags": []
          }
        },
        {
          "output_type": "stream",
          "text": [
            "Model prediction: 2\n",
            "Probablities: [1.0481496e-10 3.6301987e-08 1.0000000e+00 2.8516982e-11 1.9143625e-13\n",
            " 4.1962980e-18 2.1781552e-12 6.2877134e-13 1.1209900e-11 2.6414621e-15]\n"
          ],
          "name": "stdout"
        },
        {
          "output_type": "display_data",
          "data": {
            "image/png": "[encoded data removed]",
            "text/plain": [
              "<Figure size 576x396 with 1 Axes>"
            ]
          },
          "metadata": {
            "tags": []
          }
        },
        {
          "output_type": "stream",
          "text": [
            "Model prediction: 1\n",
            "Probablities: [8.64789840e-08 9.99765813e-01 2.41795101e-06 1.12293364e-07\n",
            " 1.72378190e-04 1.45714694e-06 3.51259973e-06 4.27155319e-05\n",
            " 1.11008821e-05 4.04787926e-07]\n"
          ],
          "name": "stdout"
        },
        {
          "output_type": "display_data",
          "data": {
            "image/png": "[encoded data removed]",
            "text/plain": [
              "<Figure size 576x396 with 1 Axes>"
            ]
          },
          "metadata": {
            "tags": []
          }
        },
        {
          "output_type": "stream",
          "text": [
            "Model prediction: 0\n",
            "Probablities: [9.9999595e-01 7.0370804e-10 9.5981102e-07 8.6537799e-09 2.0165486e-11\n",
            " 5.7895687e-07 5.9046556e-08 2.0226483e-07 1.3307660e-08 2.1536721e-06]\n"
          ],
          "name": "stdout"
        }
      ]
    },
    {
      "metadata": {
        "id": "C_n5TroNsGXV",
        "colab_type": "text"
      },
      "cell_type": "markdown",
      "source": [
        "#### Effect Of Temperature on Softmax Function"
      ]
    },
    {
      "metadata": {
        "id": "g8FYleHvRmcL",
        "colab_type": "code",
        "colab": {}
      },
      "cell_type": "code",
      "source": [
        "# Define a manual softmax function\n",
        "def softmax(x):\n",
        "  return np.exp(x)/(np.exp(x).sum())"
      ],
      "execution_count": 0,
      "outputs": []
    },
    {
      "metadata": {
        "id": "E_AhjkQlSNeu",
        "colab_type": "code",
        "outputId": "904559ee-2ce7-4064-9032-dc7dea11871e",
        "colab": {
          "base_uri": "https://localhost:8080/",
          "height": 361
        }
      },
      "cell_type": "code",
      "source": [
        "image_prob=preds[0]['pred_probas']\n",
        "temperature = [1,3,7,10,20,50]\n",
        "\n",
        "for temp in temperature:\n",
        "  plt.plot((softmax(image_prob/temp)), label='$T='+str(temp)+'$', linewidth=2)\n",
        "  plt.legend()\n",
        "plt.xlabel('classes ->')\n",
        "plt.ylabel('probability')\n",
        "plt.xlim([0, 10])\n",
        "plt.show()"
      ],
      "execution_count": 12,
      "outputs": [
        {
          "output_type": "display_data",
          "data": {
            "image/png": "[encoded data removed]",
            "text/plain": [
              "<Figure size 576x396 with 1 Axes>"
            ]
          },
          "metadata": {
            "tags": []
          }
        }
      ]
    },
    {
      "metadata": {
        "id": "5sr5sKqaSQkN",
        "colab_type": "code",
        "outputId": "95f146a9-621d-47f6-9acf-d4f912da0e1c",
        "colab": {
          "base_uri": "https://localhost:8080/",
          "height": 323
        }
      },
      "cell_type": "code",
      "source": [
        "# Prepare the input train data\n",
        "input_fn = tf.estimator.inputs.numpy_input_fn(\n",
        "    x={'images': train_data}, shuffle=False)\n",
        "# Use the model to predict the images class\n",
        "preds =list(model.predict(input_fn))\n",
        "\n",
        "input_eval_fn = tf.estimator.inputs.numpy_input_fn(\n",
        "    x={'images': eval_data}, shuffle=False)\n",
        "# Use the model to predict the images class\n",
        "preds =list(model.predict(input_fn))\n",
        "preds_eval =list(model.predict(input_eval_fn))\n",
        "predictions_prob=[]\n",
        "predictions_eval_prob=[]\n",
        "for i in range(len(preds)):\n",
        "  predictions_prob.append(preds[i]['pred_probas'])\n",
        "for j in range(len(preds_eval)):\n",
        "  predictions_eval_prob.append(preds_eval[j]['pred_probas'])\n",
        "  \n"
      ],
      "execution_count": 46,
      "outputs": [
        {
          "output_type": "stream",
          "text": [
            "INFO:tensorflow:Calling model_fn.\n",
            "INFO:tensorflow:Done calling model_fn.\n",
            "INFO:tensorflow:Graph was finalized.\n",
            "INFO:tensorflow:Restoring parameters from /tmp/tmpzl6kwcy5/model.ckpt-2000\n",
            "INFO:tensorflow:Running local_init_op.\n",
            "INFO:tensorflow:Done running local_init_op.\n",
            "INFO:tensorflow:Calling model_fn.\n",
            "INFO:tensorflow:Done calling model_fn.\n",
            "INFO:tensorflow:Graph was finalized.\n",
            "INFO:tensorflow:Restoring parameters from /tmp/tmpzl6kwcy5/model.ckpt-2000\n",
            "INFO:tensorflow:Running local_init_op.\n",
            "INFO:tensorflow:Done running local_init_op.\n",
            "INFO:tensorflow:Calling model_fn.\n",
            "INFO:tensorflow:Done calling model_fn.\n",
            "INFO:tensorflow:Graph was finalized.\n",
            "INFO:tensorflow:Restoring parameters from /tmp/tmpzl6kwcy5/model.ckpt-2000\n",
            "INFO:tensorflow:Running local_init_op.\n",
            "INFO:tensorflow:Done running local_init_op.\n"
          ],
          "name": "stdout"
        }
      ]
    },
    {
      "metadata": {
        "id": "zR_4iLOYSmjB",
        "colab_type": "code",
        "colab": {
          "base_uri": "https://localhost:8080/",
          "height": 51
        },
        "outputId": "35d06aaa-d8f1-40c7-c78a-176d8c40124f"
      },
      "cell_type": "code",
      "source": [
        "# Perform a manual softmax at raised temperature\n",
        "train_logits_T = np.array(predictions_prob)/7\n",
        "eval_logits_T = np.array(predictions_eval_prob)/7\n",
        "\n",
        "Y_train_soft = softmax(train_logits_T)\n",
        "Y_eval_soft = softmax(eval_logits_T)\n",
        "Y_train = np_utils.to_categorical(train_labels, 10)\n",
        "Y_Test = np_utils.to_categorical(eval_labels, 10)\n",
        "# Concatenate so that this becomes a 10 + 10 dimensional vector\n",
        "Y_train_new = np.concatenate([Y_train, Y_train_soft], axis=1)\n",
        "print (Y_Test.shape)\n",
        "print (Y_eval_soft.shape)\n",
        "Y_test_new = np.concatenate([Y_Test, Y_eval_soft], axis=1)"
      ],
      "execution_count": 131,
      "outputs": [
        {
          "output_type": "stream",
          "text": [
            "(10000, 10)\n",
            "(10000, 10)\n"
          ],
          "name": "stdout"
        }
      ]
    },
    {
      "metadata": {
        "id": "oEHFLrfDSrc-",
        "colab_type": "code",
        "colab": {
          "base_uri": "https://localhost:8080/",
          "height": 85
        },
        "outputId": "e0375a40-a562-4a2d-8a06-2bb3808ca17c"
      },
      "cell_type": "code",
      "source": [
        "print (Y_train_new[0])"
      ],
      "execution_count": 132,
      "outputs": [
        {
          "output_type": "stream",
          "text": [
            "[0.0000000e+00 0.0000000e+00 0.0000000e+00 0.0000000e+00 0.0000000e+00\n",
            " 0.0000000e+00 0.0000000e+00 1.0000000e+00 0.0000000e+00 0.0000000e+00\n",
            " 1.7907042e-06 1.7907042e-06 1.7907382e-06 1.7962770e-06 1.7907042e-06\n",
            " 1.7907042e-06 1.7907042e-06 2.0592399e-06 1.7907042e-06 1.7907096e-06]\n"
          ],
          "name": "stdout"
        }
      ]
    },
    {
      "metadata": {
        "id": "YNCnCfSuSsal",
        "colab_type": "code",
        "outputId": "21d26480-df6e-45a3-cfe8-a160c62726bf",
        "colab": {
          "base_uri": "https://localhost:8080/",
          "height": 306
        }
      },
      "cell_type": "code",
      "source": [
        "from keras.layers.core import Dense, Dropout, Activation\n",
        "from keras.models import Sequential\n",
        "from keras.layers import Activation,Dense, Flatten, concatenate, Lambda\n",
        "from keras.losses import categorical_crossentropy as logloss\n",
        "from keras.metrics import categorical_accuracy\n",
        "from keras.models import Model\n",
        "# This is a standalone student model (same number of layers as original student model) trained on same data\n",
        "# for comparing it with teacher trained student.\n",
        "\n",
        "n_student = Sequential()\n",
        "n_student.add(Flatten(input_shape=(28, 28, 1)))\n",
        "n_student.add(Dense(32, activation='relu'))\n",
        "n_student.add(Dropout(0.2))\n",
        "n_student.add(Dense(10))\n",
        "n_student.add(Activation('softmax'))\n",
        "\n",
        "n_student.compile(loss='categorical_crossentropy',\n",
        "              optimizer='adam',\n",
        "              metrics=['accuracy'])\n",
        "n_student.summary()"
      ],
      "execution_count": 156,
      "outputs": [
        {
          "output_type": "stream",
          "text": [
            "_________________________________________________________________\n",
            "Layer (type)                 Output Shape              Param #   \n",
            "=================================================================\n",
            "flatten_39 (Flatten)         (None, 784)               0         \n",
            "_________________________________________________________________\n",
            "dense_76 (Dense)             (None, 32)                25120     \n",
            "_________________________________________________________________\n",
            "dropout_39 (Dropout)         (None, 32)                0         \n",
            "_________________________________________________________________\n",
            "dense_77 (Dense)             (None, 10)                330       \n",
            "_________________________________________________________________\n",
            "activation_57 (Activation)   (None, 10)                0         \n",
            "=================================================================\n",
            "Total params: 25,450\n",
            "Trainable params: 25,450\n",
            "Non-trainable params: 0\n",
            "_________________________________________________________________\n"
          ],
          "name": "stdout"
        }
      ]
    },
    {
      "metadata": {
        "id": "x2xymJLK9RI5",
        "colab_type": "code",
        "colab": {
          "base_uri": "https://localhost:8080/",
          "height": 255
        },
        "outputId": "be6b1bb0-7e9f-44e9-e1a3-708b75814681"
      },
      "cell_type": "code",
      "source": [
        "print (train_data.shape)\n",
        "print (eval_data.shape)\n",
        "\n",
        "# Reshape them to batch_size, width,height,#channels\n",
        "X_train = train_data.reshape(55000, 28, 28, 1)\n",
        "X_test = eval_data.reshape(10000, 28, 28, 1)\n",
        "n_student.fit(X_train, Y_train,\n",
        "          batch_size=256,\n",
        "          epochs=5,\n",
        "          verbose=1,\n",
        "          validation_data=(X_test, Y_test))"
      ],
      "execution_count": 157,
      "outputs": [
        {
          "output_type": "stream",
          "text": [
            "(55000, 784)\n",
            "(10000, 784)\n",
            "Train on 55000 samples, validate on 10000 samples\n",
            "Epoch 1/5\n",
            "55000/55000 [==============================] - 4s 64us/step - loss: 0.8610 - acc: 0.7455 - val_loss: 0.3641 - val_acc: 0.9029\n",
            "Epoch 2/5\n",
            "55000/55000 [==============================] - 1s 16us/step - loss: 0.4274 - acc: 0.8742 - val_loss: 0.2799 - val_acc: 0.9205\n",
            "Epoch 3/5\n",
            "55000/55000 [==============================] - 1s 16us/step - loss: 0.3547 - acc: 0.8956 - val_loss: 0.2447 - val_acc: 0.9273\n",
            "Epoch 4/5\n",
            "55000/55000 [==============================] - 1s 16us/step - loss: 0.3214 - acc: 0.9053 - val_loss: 0.2241 - val_acc: 0.9344\n",
            "Epoch 5/5\n",
            "55000/55000 [==============================] - 1s 17us/step - loss: 0.2945 - acc: 0.9139 - val_loss: 0.2066 - val_acc: 0.9394\n"
          ],
          "name": "stdout"
        },
        {
          "output_type": "execute_result",
          "data": {
            "text/plain": [
              "<keras.callbacks.History at 0x7f28eb411ef0>"
            ]
          },
          "metadata": {
            "tags": []
          },
          "execution_count": 157
        }
      ]
    },
    {
      "metadata": {
        "id": "M3IALi4EQIap",
        "colab_type": "code",
        "colab": {
          "base_uri": "https://localhost:8080/",
          "height": 34
        },
        "outputId": "ac229d6f-82e0-4d10-b758-3500169f6b34"
      },
      "cell_type": "code",
      "source": [
        "z=(n_student.predict(X_test))\n",
        "labels=[]\n",
        "\n",
        "for pred in z:\n",
        "  labels.append(np.argmax(pred))\n",
        "  \n",
        "print (np.sum(np.equal(eval_labels, labels))/100)"
      ],
      "execution_count": 160,
      "outputs": [
        {
          "output_type": "stream",
          "text": [
            "93.94\n"
          ],
          "name": "stdout"
        }
      ]
    },
    {
      "metadata": {
        "id": "j-xsj9K1-EXl",
        "colab_type": "code",
        "colab": {
          "base_uri": "https://localhost:8080/",
          "height": 459
        },
        "outputId": "b808c129-3dc5-49f3-909e-db45f7297885"
      },
      "cell_type": "code",
      "source": [
        "# Student model that is stand-alone. We will evaluate its accuracy compared to a teacher trained student model\n",
        "\n",
        "student = Sequential()\n",
        "student.add(Flatten(input_shape=(28, 28, 1)))\n",
        "student.add(Dense(32, activation='relu'))\n",
        "student.add(Dropout(0.2))\n",
        "student.add(Dense(10))\n",
        "logits=student.layers[-1].output\n",
        "# This is going to be a tensor. And hence it needs to pass through a Activation layer\n",
        "probs = Activation('softmax')(logits)\n",
        "\n",
        "# softed probabilities at raised temperature\n",
        "logits_T = Lambda(lambda x: x / 5)(logits)\n",
        "probs_T = Activation('softmax')(logits_T)\n",
        "\n",
        "output = concatenate([probs, probs_T])\n",
        "student = Model(student.input, output)\n",
        "student.summary()\n"
      ],
      "execution_count": 150,
      "outputs": [
        {
          "output_type": "stream",
          "text": [
            "__________________________________________________________________________________________________\n",
            "Layer (type)                    Output Shape         Param #     Connected to                     \n",
            "==================================================================================================\n",
            "flatten_38_input (InputLayer)   (None, 28, 28, 1)    0                                            \n",
            "__________________________________________________________________________________________________\n",
            "flatten_38 (Flatten)            (None, 784)          0           flatten_38_input[0][0]           \n",
            "__________________________________________________________________________________________________\n",
            "dense_74 (Dense)                (None, 32)           25120       flatten_38[0][0]                 \n",
            "__________________________________________________________________________________________________\n",
            "dropout_38 (Dropout)            (None, 32)           0           dense_74[0][0]                   \n",
            "__________________________________________________________________________________________________\n",
            "dense_75 (Dense)                (None, 10)           330         dropout_38[0][0]                 \n",
            "__________________________________________________________________________________________________\n",
            "lambda_19 (Lambda)              (None, 10)           0           dense_75[0][0]                   \n",
            "__________________________________________________________________________________________________\n",
            "activation_55 (Activation)      (None, 10)           0           dense_75[0][0]                   \n",
            "__________________________________________________________________________________________________\n",
            "activation_56 (Activation)      (None, 10)           0           lambda_19[0][0]                  \n",
            "__________________________________________________________________________________________________\n",
            "concatenate_19 (Concatenate)    (None, 20)           0           activation_55[0][0]              \n",
            "                                                                 activation_56[0][0]              \n",
            "==================================================================================================\n",
            "Total params: 25,450\n",
            "Trainable params: 25,450\n",
            "Non-trainable params: 0\n",
            "__________________________________________________________________________________________________\n"
          ],
          "name": "stdout"
        }
      ]
    },
    {
      "metadata": {
        "id": "73G049j-AazQ",
        "colab_type": "code",
        "colab": {}
      },
      "cell_type": "code",
      "source": [
        "# This will be a teacher trained student model. \n",
        "# --> This uses a knowledge distillation loss function\n",
        "\n",
        "# Declare knowledge distillation loss\n",
        "def knowledge_distillation_loss(y_true, y_pred, alpha):\n",
        "\n",
        "    # Extract the one-hot encoded values and the softs separately so that we can create two objective functions\n",
        "    y_true, y_true_softs = y_true[: , :10], y_true[: , 10:]\n",
        "    \n",
        "    y_pred, y_pred_softs = y_pred[: , :10], y_pred[: , 10:]\n",
        "    \n",
        "    loss = alpha*logloss(y_true,y_pred) + logloss(y_true_softs, y_pred_softs)\n",
        "    \n",
        "    return loss\n",
        "\n",
        "# For testing use regular output probabilities - without temperature\n",
        "def acc(y_true, y_pred):\n",
        "    y_true = y_true[:, :10]\n",
        "    y_pred = y_pred[:, :10]\n",
        "    return categorical_accuracy(y_true, y_pred)\n",
        "\n",
        "student.compile(\n",
        "    optimizer='adam',\n",
        "    loss=lambda y_true, y_pred: knowledge_distillation_loss(y_true, y_pred, 0.2),\n",
        "    metrics=[acc] )"
      ],
      "execution_count": 0,
      "outputs": []
    },
    {
      "metadata": {
        "id": "cqXa1kE9BRwX",
        "colab_type": "code",
        "colab": {
          "base_uri": "https://localhost:8080/",
          "height": 221
        },
        "outputId": "aa39dd9a-d8b0-4713-bcaa-426b62d9612b"
      },
      "cell_type": "code",
      "source": [
        "student.fit(X_train, Y_train_new,\n",
        "          batch_size=256,\n",
        "          epochs=5,\n",
        "          verbose=1,\n",
        "          validation_data=(X_test,Y_test_new))"
      ],
      "execution_count": 162,
      "outputs": [
        {
          "output_type": "stream",
          "text": [
            "Train on 55000 samples, validate on 10000 samples\n",
            "Epoch 1/5\n",
            "55000/55000 [==============================] - 4s 71us/step - loss: 0.0416 - acc: 0.9375 - val_loss: 0.0301 - val_acc: 0.9565\n",
            "Epoch 2/5\n",
            "55000/55000 [==============================] - 1s 18us/step - loss: 0.0403 - acc: 0.9395 - val_loss: 0.0296 - val_acc: 0.9562\n",
            "Epoch 3/5\n",
            "55000/55000 [==============================] - 1s 18us/step - loss: 0.0387 - acc: 0.9416 - val_loss: 0.0293 - val_acc: 0.9563\n",
            "Epoch 4/5\n",
            "55000/55000 [==============================] - 1s 18us/step - loss: 0.0379 - acc: 0.9417 - val_loss: 0.0280 - val_acc: 0.9589\n",
            "Epoch 5/5\n",
            "55000/55000 [==============================] - 1s 18us/step - loss: 0.0369 - acc: 0.9434 - val_loss: 0.0278 - val_acc: 0.9593\n"
          ],
          "name": "stdout"
        },
        {
          "output_type": "execute_result",
          "data": {
            "text/plain": [
              "<keras.callbacks.History at 0x7f28eb043ac8>"
            ]
          },
          "metadata": {
            "tags": []
          },
          "execution_count": 162
        }
      ]
    },
    {
      "metadata": {
        "id": "Ikv68pRoBk9g",
        "colab_type": "code",
        "colab": {
          "base_uri": "https://localhost:8080/",
          "height": 34
        },
        "outputId": "7e64a2be-15ec-4e81-d6bd-fc1f53ceac7d"
      },
      "cell_type": "code",
      "source": [
        "z=(student.predict(X_test))\n",
        "labels=[]\n",
        "\n",
        "for pred in z:\n",
        "  labels.append(np.argmax(pred))\n",
        "  \n",
        "print (np.sum(np.equal(eval_labels, labels))/100)"
      ],
      "execution_count": 163,
      "outputs": [
        {
          "output_type": "stream",
          "text": [
            "95.93\n"
          ],
          "name": "stdout"
        }
      ]
    }
  ]
}