{
 "cells": [
  {
   "cell_type": "markdown",
   "metadata": {
    "colab_type": "text",
    "id": "sKGsmsab5I1S"
   },
   "source": [
    "# <center>Assignment 1</center>"
   ]
  },
  {
   "cell_type": "markdown",
   "metadata": {
    "colab_type": "text",
    "id": "q5VD__J65I1U"
   },
   "source": [
    "There are 2 main parts asked in this assignment - Tensorflow Basics and Neural Networks. You can choose to code in Python2 or Python3. All the imports made in this notebook are as below; if these imports work, you are (mostly) set to complete the assignment."
   ]
  },
  {
   "cell_type": "code",
   "execution_count": 0,
   "metadata": {
    "colab": {
     "autoexec": {
      "startup": false,
      "wait_interval": 0
     }
    },
    "colab_type": "code",
    "collapsed": true,
    "id": "B4teB1gh5I1V"
   },
   "outputs": [],
   "source": [
    "from __future__ import print_function,division\n",
    "%matplotlib inline\n",
    "import matplotlib.pyplot as plt\n",
    "import random \n",
    "import tensorflow as tf\n",
    "import numpy as np"
   ]
  },
  {
   "cell_type": "markdown",
   "metadata": {
    "colab_type": "text",
    "id": "vWzfE86tusct"
   },
   "source": [
    "## Tensorflow - Basics"
   ]
  },
  {
   "cell_type": "markdown",
   "metadata": {
    "colab_type": "text",
    "id": "gtgV4CJM5I1Z"
   },
   "source": [
    "### I. Linear Regression"
   ]
  },
  {
   "cell_type": "markdown",
   "metadata": {
    "colab_type": "text",
    "id": "waXA1j7A5I1a"
   },
   "source": [
    "<b>1a. Creating Sample Data </b>"
   ]
  },
  {
   "cell_type": "code",
   "execution_count": 0,
   "metadata": {
    "colab": {
     "autoexec": {
      "startup": false,
      "wait_interval": 0
     }
    },
    "colab_type": "code",
    "collapsed": true,
    "id": "LrDL6noo5I1b"
   },
   "outputs": [],
   "source": [
    "x = np.random.randn(100,3) # 100 data points of dimension 3\n",
    "w = np.array([[1],[2],[3]])\n",
    "b = 10\n",
    "y = np.array((x * w.transpose()).sum(axis=1)+b).reshape(100,1) # Write code to create the target. Use Numpy operations"
   ]
  },
  {
   "cell_type": "markdown",
   "metadata": {
    "colab_type": "text",
    "id": "J6m9Ibn65QcP"
   },
   "source": [
    "**1b. Plot Data**"
   ]
  },
  {
   "cell_type": "code",
   "execution_count": 3,
   "metadata": {
    "colab": {
     "autoexec": {
      "startup": false,
      "wait_interval": 0
     },
     "base_uri": "https://localhost:8080/",
     "height": 270
    },
    "colab_type": "code",
    "executionInfo": {
     "elapsed": 565,
     "status": "ok",
     "timestamp": 1526583256432,
     "user": {
      "displayName": "Nikhil Dhirmalani",
      "photoUrl": "https://lh3.googleusercontent.com/a/default-user=s128",
      "userId": "117732879546167846741"
     },
     "user_tz": 180
    },
    "id": "lS4Hlv8k5UeZ",
    "outputId": "2f4ae745-f7e8-4dd2-e1eb-2639b4d3c3ba"
   },
   "outputs": [
    {
     "data": {
      "image/png": "[encoded data removed]",
      "text/plain": [
       "<matplotlib.figure.Figure at 0x7f693b08c950>"
      ]
     },
     "metadata": {
      "tags": []
     },
     "output_type": "display_data"
    }
   ],
   "source": [
    "# Explore the data by plotting whatever makes you understand the problem better. \n",
    "# Your code here.\n",
    "for i in range(3):\n",
    "  plt.hist(x[:,i], normed=True, bins=30)\n",
    "  plt.ylabel('Probability');\n",
    "\n"
   ]
  },
  {
   "cell_type": "markdown",
   "metadata": {
    "colab_type": "text",
    "id": "qo8hagle5I1c"
   },
   "source": [
    "<b>2. Creating Placeholders</b>"
   ]
  },
  {
   "cell_type": "code",
   "execution_count": 0,
   "metadata": {
    "colab": {
     "autoexec": {
      "startup": false,
      "wait_interval": 0
     }
    },
    "colab_type": "code",
    "collapsed": true,
    "id": "9aM6fyvd5I1e"
   },
   "outputs": [],
   "source": [
    "X = tf.placeholder(dtype=tf.float32,shape=[None,3]) \n",
    "Y_Expected = tf.placeholder(dtype=tf.float32,shape=[100,1]) # Write code to create the placeholder for target."
   ]
  },
  {
   "cell_type": "markdown",
   "metadata": {
    "colab_type": "text",
    "id": "IIcGDu2s5I1f"
   },
   "source": [
    "<b>3. Creating Variables</b>"
   ]
  },
  {
   "cell_type": "code",
   "execution_count": 0,
   "metadata": {
    "colab": {
     "autoexec": {
      "startup": false,
      "wait_interval": 0
     }
    },
    "colab_type": "code",
    "collapsed": true,
    "id": "OJd_anpk5I1h"
   },
   "outputs": [],
   "source": [
    "b = tf.Variable(dtype=tf.float32,initial_value=np.zeros(shape=(1,1)),name=\"b\")\n",
    "W = tf.Variable(dtype=tf.float32,initial_value=np.zeros(shape=[3,1]),name=\"w\") # Write code to instantiate W with zeros. "
   ]
  },
  {
   "cell_type": "markdown",
   "metadata": {
    "colab_type": "text",
    "id": "cZItc9VZ5I1k"
   },
   "source": [
    "<b> 4. Creating Compute Graph </b>"
   ]
  },
  {
   "cell_type": "code",
   "execution_count": 0,
   "metadata": {
    "colab": {
     "autoexec": {
      "startup": false,
      "wait_interval": 0
     }
    },
    "colab_type": "code",
    "collapsed": true,
    "id": "HwpRYAc85I1k"
   },
   "outputs": [],
   "source": [
    "Y = tf.add(tf.matmul(X, W), b) # Define the equation to compute the output variable.\n",
    "cost = tf.reduce_sum(tf.pow(Y_Expected-Y, 2))/(2*100) # Define the cost function.  "
   ]
  },
  {
   "cell_type": "markdown",
   "metadata": {
    "colab_type": "text",
    "id": "XoqEq-Mj5I1m"
   },
   "source": [
    "<b> 5. Training and optimizer </b>"
   ]
  },
  {
   "cell_type": "code",
   "execution_count": 7,
   "metadata": {
    "colab": {
     "autoexec": {
      "startup": false,
      "wait_interval": 0
     },
     "base_uri": "https://localhost:8080/",
     "height": 527
    },
    "colab_type": "code",
    "executionInfo": {
     "elapsed": 431,
     "status": "ok",
     "timestamp": 1526583267295,
     "user": {
      "displayName": "Nikhil Dhirmalani",
      "photoUrl": "https://lh3.googleusercontent.com/a/default-user=s128",
      "userId": "117732879546167846741"
     },
     "user_tz": 180
    },
    "id": "TkF3TNpt5I1o",
    "outputId": "674ffb69-901e-45c5-ae91-710ba571a59a"
   },
   "outputs": [
    {
     "name": "stdout",
     "output_type": "stream",
     "text": [
      "0 56.14354\n",
      "1 45.44863\n",
      "2 36.837368\n",
      "3 29.891996\n",
      "4 24.281485\n",
      "5 19.742783\n",
      "6 16.066317\n",
      "7 13.0847225\n",
      "8 10.664023\n",
      "9 8.6967535\n",
      "10 7.0965357\n",
      "11 5.793817\n",
      "12 4.732503\n",
      "13 3.8672736\n",
      "14 3.1614718\n",
      "15 2.5854023\n",
      "16 2.1149824\n",
      "17 1.7306633\n",
      "18 1.4165558\n",
      "19 1.1597369\n",
      "20 0.9496863\n",
      "21 0.77783513\n",
      "22 0.6371973\n",
      "23 0.5220743\n",
      "24 0.42781603\n",
      "25 0.35062438\n",
      "26 0.28739655\n",
      "27 0.2355982\n",
      "28 0.19315626\n",
      "29 0.15837568\n"
     ]
    }
   ],
   "source": [
    "# This part has been done for you already! Just run it after you finish coding the above sections. \n",
    "sess = tf.InteractiveSession()\n",
    "sess.run(tf.global_variables_initializer())\n",
    "optimizer = tf.train.GradientDescentOptimizer(learning_rate=0.1)\n",
    "train_op = optimizer.minimize(cost)\n",
    "for epoch in range(30):\n",
    "    epoch_cost,_ = sess.run([cost,train_op],feed_dict={X:x,Y_Expected:y})\n",
    "    print (epoch,epoch_cost)"
   ]
  },
  {
   "cell_type": "markdown",
   "metadata": {
    "colab_type": "text",
    "id": "nnMq3Dxx5I1q"
   },
   "source": [
    "<b> 5. Print out parameters </b>"
   ]
  },
  {
   "cell_type": "code",
   "execution_count": 8,
   "metadata": {
    "colab": {
     "autoexec": {
      "startup": false,
      "wait_interval": 0
     },
     "base_uri": "https://localhost:8080/",
     "height": 85
    },
    "colab_type": "code",
    "executionInfo": {
     "elapsed": 289,
     "status": "ok",
     "timestamp": 1526583271167,
     "user": {
      "displayName": "Nikhil Dhirmalani",
      "photoUrl": "https://lh3.googleusercontent.com/a/default-user=s128",
      "userId": "117732879546167846741"
     },
     "user_tz": 180
    },
    "id": "Htz0trvg5I1s",
    "outputId": "4f842988-493e-4af0-f62f-11eb9e4a15a4"
   },
   "outputs": [
    {
     "name": "stdout",
     "output_type": "stream",
     "text": [
      "W: [[0.8468066]\n",
      " [1.96483  ]\n",
      " [2.8201952]]\n",
      "b: [[9.532655]]\n"
     ]
    }
   ],
   "source": [
    "# Replace the None with the correct operation. You should get W close to [[1],[2],[3]] and b close to 10. \n",
    "print(\"W:\",sess.run(W))\n",
    "print(\"b:\",sess.run(b))"
   ]
  },
  {
   "cell_type": "markdown",
   "metadata": {
    "colab_type": "text",
    "id": "1xXx4-CO5I1v"
   },
   "source": [
    "### II. Matrix Multiplication"
   ]
  },
  {
   "cell_type": "code",
   "execution_count": 0,
   "metadata": {
    "colab": {
     "autoexec": {
      "startup": false,
      "wait_interval": 0
     }
    },
    "colab_type": "code",
    "collapsed": true,
    "id": "0ZylKoT7v9J2"
   },
   "outputs": [],
   "source": [
    "def ndmatmul():\n",
    "    \"\"\"\n",
    "      # 3d x 2d Matmul operation. \n",
    "      You may find some of these functions useful: einsum, tile, expand_dims.\n",
    "      :return a: Placeholder for 3d tensor [float64]\n",
    "              b: Placeholder for 2d tensor [float64]\n",
    "              c: Matrix Product\n",
    "      \"\"\"\n",
    "    a = tf.placeholder(dtype=tf.float64,shape=[5,2,3])\n",
    "    b = tf.placeholder(dtype=tf.float64,shape=[3,1])\n",
    "    c = tf.einsum('abc,cd->abd',a,b)\n",
    "    return a,b,c"
   ]
  },
  {
   "cell_type": "code",
   "execution_count": 0,
   "metadata": {
    "colab": {
     "autoexec": {
      "startup": false,
      "wait_interval": 0
     }
    },
    "colab_type": "code",
    "collapsed": true,
    "id": "oHHeXiBOxyI2"
   },
   "outputs": [],
   "source": [
    "A,B,C = ndmatmul()"
   ]
  },
  {
   "cell_type": "code",
   "execution_count": 11,
   "metadata": {
    "colab": {
     "autoexec": {
      "startup": false,
      "wait_interval": 0
     },
     "base_uri": "https://localhost:8080/",
     "height": 306
    },
    "colab_type": "code",
    "executionInfo": {
     "elapsed": 329,
     "status": "ok",
     "timestamp": 1526583279558,
     "user": {
      "displayName": "Nikhil Dhirmalani",
      "photoUrl": "https://lh3.googleusercontent.com/a/default-user=s128",
      "userId": "117732879546167846741"
     },
     "user_tz": 180
    },
    "id": "Rldu3MIfx3Yi",
    "outputId": "2b554884-aa4f-43ef-a0a7-a036bbc447cf"
   },
   "outputs": [
    {
     "name": "stdout",
     "output_type": "stream",
     "text": [
      "(5, 2, 3)\n",
      "(3, 1)\n",
      "(5, 2, 1)\n",
      "[[[-0.51783421]\n",
      "  [ 1.98033132]]\n",
      "\n",
      " [[-1.12404125]\n",
      "  [ 1.00805567]]\n",
      "\n",
      " [[-0.40371716]\n",
      "  [ 1.43240346]]\n",
      "\n",
      " [[ 0.49588387]\n",
      "  [-1.49477015]]\n",
      "\n",
      " [[-0.26736846]\n",
      "  [ 0.38907473]]]\n"
     ]
    }
   ],
   "source": [
    "np.random.seed(1)\n",
    "a = np.random.randn(5,2,3)\n",
    "b = np.random.randn(3,1)\n",
    "c = np.matmul(a,b)\n",
    "print(a.shape)\n",
    "print(b.shape)\n",
    "print(c.shape)\n",
    "print(c)"
   ]
  },
  {
   "cell_type": "code",
   "execution_count": 12,
   "metadata": {
    "colab": {
     "autoexec": {
      "startup": false,
      "wait_interval": 0
     },
     "base_uri": "https://localhost:8080/",
     "height": 272
    },
    "colab_type": "code",
    "executionInfo": {
     "elapsed": 560,
     "status": "ok",
     "timestamp": 1526583282666,
     "user": {
      "displayName": "Nikhil Dhirmalani",
      "photoUrl": "https://lh3.googleusercontent.com/a/default-user=s128",
      "userId": "117732879546167846741"
     },
     "user_tz": 180
    },
    "id": "BX2VDVzx01vp",
    "outputId": "b98482f6-b160-4fad-d3cd-609accabc61e"
   },
   "outputs": [
    {
     "name": "stdout",
     "output_type": "stream",
     "text": [
      "[[[-0.51783421]\n",
      "  [ 1.98033132]]\n",
      "\n",
      " [[-1.12404125]\n",
      "  [ 1.00805567]]\n",
      "\n",
      " [[-0.40371716]\n",
      "  [ 1.43240346]]\n",
      "\n",
      " [[ 0.49588387]\n",
      "  [-1.49477015]]\n",
      "\n",
      " [[-0.26736846]\n",
      "  [ 0.38907473]]]\n",
      "Correct!\n"
     ]
    }
   ],
   "source": [
    "# Will give error if function not implemented. Your output should match Numpy's output.\n",
    "sess = tf.InteractiveSession()\n",
    "c_tensor = sess.run(C,feed_dict={A:a,\n",
    "                            B:b})\n",
    "print(c_tensor)\n",
    "if (c_tensor-c<10**-10).all():\n",
    "    print(\"Correct!\")"
   ]
  },
  {
   "cell_type": "markdown",
   "metadata": {
    "colab_type": "text",
    "id": "M_B3PwLX2mYc"
   },
   "source": [
    "### III. Experiments with Feed-forward NN on MNIST"
   ]
  },
  {
   "cell_type": "markdown",
   "metadata": {
    "colab_type": "text",
    "id": "cX231VZk5I13"
   },
   "source": [
    "In this Qn, you will experiment with Feed-forward Neural nets while training on the MNIST dataset. Read more about it <a href = \"https://en.wikipedia.org/wiki/MNIST_database\">here</a>. A random sample of the images has been shown to you. "
   ]
  },
  {
   "cell_type": "code",
   "execution_count": 4,
   "metadata": {
    "colab": {
     "autoexec": {
      "startup": false,
      "wait_interval": 0
     },
     "base_uri": "https://localhost:8080/",
     "height": 405
    },
    "colab_type": "code",
    "executionInfo": {
     "elapsed": 1629,
     "status": "ok",
     "timestamp": 1526602174072,
     "user": {
      "displayName": "Nikhil Dhirmalani",
      "photoUrl": "https://lh3.googleusercontent.com/a/default-user=s128",
      "userId": "117732879546167846741"
     },
     "user_tz": 180
    },
    "id": "GX5Q-nJv5I14",
    "outputId": "3946f409-22fe-4913-e03e-eaedf96c9a0d"
   },
   "outputs": [
    {
     "name": "stdout",
     "output_type": "stream",
     "text": [
      "Extracting MNIST_data/train-images-idx3-ubyte.gz\n",
      "Extracting MNIST_data/train-labels-idx1-ubyte.gz\n",
      "Extracting MNIST_data/t10k-images-idx3-ubyte.gz\n",
      "Extracting MNIST_data/t10k-labels-idx1-ubyte.gz\n",
      "(55000, 784)\n",
      "(55000, 10)\n",
      "(10000, 784)\n",
      "(10000, 10)\n"
     ]
    },
    {
     "data": {
      "image/png": "[encoded data removed]",
      "text/plain": [
       "<matplotlib.figure.Figure at 0x7f01f3cf8b10>"
      ]
     },
     "metadata": {
      "tags": []
     },
     "output_type": "display_data"
    }
   ],
   "source": [
    "# Load MNIST Data\n",
    "from tensorflow.examples.tutorials.mnist import input_data\n",
    "mnist = input_data.read_data_sets(\"MNIST_data/\", one_hot=True)\n",
    "train_data = mnist.train.images # Returns np.array\n",
    "train_labels = np.asarray(mnist.train.labels, dtype=np.int32)\n",
    "eval_data = mnist.test.images # Returns np.array\n",
    "eval_labels = np.asarray(mnist.test.labels, dtype=np.int32)\n",
    "print(train_data.shape)\n",
    "print(train_labels.shape)\n",
    "print(eval_data.shape)\n",
    "print(eval_labels.shape)\n",
    "# Randomly choose 10 images from first 50 images of Train Data.\n",
    "for index,idx in enumerate(random.sample(range(50),10)): \n",
    "    plt.subplot(10,1,index+1)\n",
    "    plt.imshow(train_data[idx].reshape(28,28))"
   ]
  },
  {
   "cell_type": "markdown",
   "metadata": {
    "colab_type": "text",
    "id": "W6I1p3uH5I18"
   },
   "source": [
    "Fill in the following snippet as per the instructions. \n",
    "* For initialising placeholders, use None to accommodate variable batch_size. \n",
    "* Do not change the seed; use it for comparing epoch-wise loss with your friends.\n",
    "* You can use the following <a href =\"https://www.tensorflow.org/versions/r1.1/get_started/mnist/beginners\">tutorial</a> for reference. Note that they use softmax in their example, while you are required to code Feedforward neural network. \n"
   ]
  },
  {
   "cell_type": "code",
   "execution_count": 0,
   "metadata": {
    "colab": {
     "autoexec": {
      "startup": false,
      "wait_interval": 0
     }
    },
    "colab_type": "code",
    "collapsed": true,
    "id": "IqWoBVW9276e"
   },
   "outputs": [],
   "source": [
    "def initializer_1(shape):\n",
    "    # Do not change the seed.\n",
    "    np.random.seed(1)\n",
    "    return np.random.randn(*shape)\n",
    "\n",
    "def initializer_2(shape):\n",
    "    # Do not change the seed.\n",
    "    np.random.seed(1)\n",
    "    return 0.01 * np.random.randn(*shape)\n",
    "\n",
    "\n",
    "class MNIST_ANN:\n",
    "    def __init__(self, hidden_units, activations, initializer):\n",
    "        \"\"\"\n",
    "        Initialise the weights and build the compute graph. Use AdamOptimizer with default parameters.\n",
    "        :param hidden_units - list of number of hidden units.\n",
    "               Eg: [10,20] => Layer 1 has 10 hidden units and Layer 2 has 20.\n",
    "        :param activations - list of activations for each of the hidden layers.\n",
    "               Eg: [tf.nn.sigmoid, tf.nn.tanh]\n",
    "        :param intializer - the reference to the function used for intializing the weights\n",
    "        \"\"\"\n",
    "        # Define the placeholders\n",
    "        self.input =tf.placeholder(dtype=tf.float32,shape=[None,784])\n",
    "\n",
    "\n",
    "        self.expected_output = tf.placeholder(dtype=tf.float32,shape=[None,10])\n",
    "\n",
    "        # Initialise the weights and biases. Use zeros for the biases.\n",
    "        weights = [tf.Variable(dtype=tf.float32,initial_value=initializer([784,hidden_units[0]]))]\n",
    "        biases = [tf.Variable(dtype=tf.float32,initial_value=np.zeros(shape=[1,hidden_units[0]]))]\n",
    "\n",
    "        # Loop here.\n",
    "        for i in range(len(hidden_units)-1):\n",
    "            biases.append(tf.Variable(dtype=tf.float32,initial_value=np.zeros(shape=[1,hidden_units[i+1]])))\n",
    "            weights.append(tf.Variable(dtype=tf.float32,initial_value=initializer([hidden_units[i],hidden_units[i+1]])))\n",
    "\n",
    "        biases.append(tf.Variable(dtype=tf.float32, initial_value=np.zeros(shape=[1,10])))\n",
    "        weights.append(tf.Variable(dtype=tf.float32, initial_value=initializer([hidden_units[len(hidden_units)-1], 10])))\n",
    "\n",
    "\n",
    "\n",
    "        def graph_Builder(x):\n",
    "            for i in range(len(activations)):\n",
    "                x = activations[i](tf.matmul(x, weights[i]) + biases[i])\n",
    "            logit= tf.matmul(x, weights[len(activations)]) + biases[len(activations)]\n",
    "            pred=tf.nn.softmax(logit)\n",
    "            return logit,pred\n",
    "\n",
    "        # Build the graph for computing output.\n",
    "        self.output,self.pred=graph_Builder(self.input)\n",
    "\n",
    "        # # Define the loss and accuracy here. (Refer Tutorial)\n",
    "        self.cost = tf.reduce_mean(tf.nn.softmax_cross_entropy_with_logits_v2(logits=self.output,labels=self.expected_output))\n",
    "\n",
    "        self.accuracy = tf.reduce_mean(tf.cast(tf.equal(tf.argmax(self.pred, 1), tf.argmax(self.expected_output, 1)), tf.float32))\n",
    "        #\n",
    "        # # Instantiate the optimizer\n",
    "        optimizer=tf.train.AdamOptimizer()\n",
    "        #\n",
    "        self.train_op = optimizer.minimize(self.cost)\n",
    "        self.session = tf.Session()\n",
    "        #\n",
    "        # # Initialize all variables\n",
    "        self.init=tf.global_variables_initializer()\n",
    "\n",
    "    def train(self, train_data, train_labels, eval_data, eval_labels, batch_size, epochs=100):\n",
    "        \"\"\"\n",
    "        Training code.\n",
    "        \"\"\"\n",
    "        sess = self.session\n",
    "        sess.run(self.init)\n",
    "\n",
    "        # Slice the data and labels into batches depending on the batch_size.\n",
    "        batches = [[train_data[k:k+batch_size],train_labels[k:k+batch_size]] for k in range(0,len(train_data),batch_size)]\n",
    "\n",
    "        for epoch in range(epochs):\n",
    "            cost_epoch = 0\n",
    "            for batch in batches:\n",
    "                # Forward Propagate, compute cost and backpropagate.\n",
    "                cost, _ = sess.run([self.cost, self.train_op], feed_dict={self.input: batch[0],\n",
    "                                                                          self.expected_output: batch[1]})\n",
    "                cost_epoch += cost\n",
    "            if epoch % 10 == 0:\n",
    "                print(\"Train accuracy: {}\".format(self.compute_accuracy(train_data, train_labels)))\n",
    "                print(\"Test accuracy: {}\".format(self.compute_accuracy(eval_data, eval_labels)))\n",
    "            print(\"Epoch {}: {}\".format(epoch, cost_epoch))\n",
    "        print(\"Train accuracy: {}\".format(self.compute_accuracy(train_data, train_labels)))\n",
    "        print(\"Test accuracy: {}\".format(self.compute_accuracy(eval_data, eval_labels)))\n",
    "\n",
    "    def compute_accuracy(self, data, labels):\n",
    "        \"\"\"\n",
    "        Fill in code to compute accuracy\n",
    "        \"\"\"\n",
    "\n",
    "        _,acc= self.session.run([self.output,self.accuracy],feed_dict={self.input: data, self.expected_output: labels})\n",
    "\n",
    "        return acc"
   ]
  },
  {
   "cell_type": "code",
   "execution_count": 15,
   "metadata": {
    "colab": {
     "autoexec": {
      "startup": false,
      "wait_interval": 0
     },
     "base_uri": "https://localhost:8080/",
     "height": 136
    },
    "colab_type": "code",
    "executionInfo": {
     "elapsed": 10793,
     "status": "ok",
     "timestamp": 1526583313209,
     "user": {
      "displayName": "Nikhil Dhirmalani",
      "photoUrl": "https://lh3.googleusercontent.com/a/default-user=s128",
      "userId": "117732879546167846741"
     },
     "user_tz": 180
    },
    "id": "_TTASFUA5I1_",
    "outputId": "5b0f39b9-76fd-4022-da2c-64f8e7c7643e"
   },
   "outputs": [
    {
     "name": "stdout",
     "output_type": "stream",
     "text": [
      "Train accuracy: 0.780763626099\n",
      "Test accuracy: 0.791599988937\n",
      "Epoch 0: 6768.8649483\n",
      "Epoch 1: 3275.00305783\n",
      "Epoch 2: 2590.16955168\n",
      "Train accuracy: 0.873399972916\n",
      "Test accuracy: 0.876900017262\n"
     ]
    }
   ],
   "source": [
    "ann = MNIST_ANN([10],[tf.nn.sigmoid],initializer_1)\n",
    "ann.train(train_data,train_labels,eval_data,eval_labels,batch_size=10,epochs=3)"
   ]
  },
  {
   "cell_type": "markdown",
   "metadata": {
    "colab_type": "text",
    "id": "maX6s20Q5I2B"
   },
   "source": [
    "The expected output for the above snippet is\n",
    "<pre>\n",
    "Train accuracy: 0.780763626099\n",
    "Test accuracy: 0.791599988937\n",
    "Epoch 0: 6768.86486949\n",
    "Epoch 1: 3275.00310887\n",
    "Epoch 2: 2590.16959983\n",
    "Train accuracy: 0.873399972916\n",
    "Test accuracy: 0.876900017262\n",
    "</pre>\n",
    "If you get any other output and you feel you are correct, you can proceed (However, I cannot think of any case where you can get a different output). "
   ]
  },
  {
   "cell_type": "markdown",
   "metadata": {
    "colab_type": "text",
    "id": "iJv-fmOh5I2B"
   },
   "source": [
    "### Answer the following questions by running code snippets. Unless asked explicitly (like in Q1 and Q4), you need to just show the system performance and need not comment."
   ]
  },
  {
   "cell_type": "markdown",
   "metadata": {
    "colab_type": "text",
    "id": "mmfIKKtm5I2D"
   },
   "source": [
    "**1. Use 1 hidden layer of 10 hidden units with sigmoid activation and batch_size=10 for this question. Observe the network performance for initializer_1 and initializer_2 and explain the behavior. Why does this happen? What is your guess for tanh and relu? Why?**"
   ]
  },
  {
   "cell_type": "code",
   "execution_count": 9,
   "metadata": {
    "cellView": "code",
    "colab": {
     "autoexec": {
      "startup": false,
      "wait_interval": 0
     },
     "base_uri": "https://localhost:8080/",
     "height": 833
    },
    "colab_type": "code",
    "executionInfo": {
     "elapsed": 56074,
     "status": "ok",
     "timestamp": 1526608035667,
     "user": {
      "displayName": "Nikhil Dhirmalani",
      "photoUrl": "https://lh3.googleusercontent.com/a/default-user=s128",
      "userId": "117732879546167846741"
     },
     "user_tz": 180
    },
    "id": "RgmxIbr07Gxf",
    "outputId": "dabca683-975d-40d3-f9e6-cdef69153b3b"
   },
   "outputs": [
    {
     "name": "stdout",
     "output_type": "stream",
     "text": [
      "Using initializer_2 for weights initialization\n",
      "Train accuracy: 0.888436377048\n",
      "Test accuracy: 0.889999985695\n",
      "Epoch 0: 4661.21876498\n",
      "Epoch 1: 2012.70547899\n",
      "Epoch 2: 1702.05737616\n",
      "Train accuracy: 0.916145443916\n",
      "Test accuracy: 0.911099970341\n",
      "\n",
      "\n",
      "using relu activation network performance with initialization_1\n",
      "Train accuracy: 0.329963624477\n",
      "Test accuracy: 0.326599985361\n",
      "Epoch 0: 13480.2653993\n",
      "Epoch 1: 7740.57294458\n",
      "Epoch 2: 5027.61890015\n",
      "Train accuracy: 0.773527264595\n",
      "Test accuracy: 0.771399974823\n",
      "\n",
      "\n",
      "using tanh activation network performance with initialization_1\n",
      "Train accuracy: 0.700636386871\n",
      "Test accuracy: 0.700600028038\n",
      "Epoch 0: 7810.33010177\n",
      "Epoch 1: 4358.57360845\n",
      "Epoch 2: 3468.85253896\n",
      "Train accuracy: 0.833999991417\n",
      "Test accuracy: 0.831900000572\n",
      "\n",
      "\n",
      "using relu activation network performance with initialization_2\n",
      "Train accuracy: 0.886363625526\n",
      "Test accuracy: 0.887300014496\n",
      "Epoch 0: 2797.41020327\n",
      "Epoch 1: 1812.86548536\n",
      "Epoch 2: 1694.94713\n",
      "Train accuracy: 0.901472747326\n",
      "Test accuracy: 0.898299992085\n",
      "\n",
      "\n",
      "using tanh activation network performance with initialization_1\n",
      "Train accuracy: 0.901745438576\n",
      "Test accuracy: 0.898599982262\n",
      "Epoch 0: 3125.41567938\n",
      "Epoch 1: 1666.60267279\n",
      "Epoch 2: 1505.20209847\n",
      "Train accuracy: 0.920145452023\n",
      "Test accuracy: 0.912699997425\n"
     ]
    }
   ],
   "source": [
    "#@title Default title text\n",
    "# Your code here.\n",
    "print (\"Using initializer_2 for weights initialization\")\n",
    "ann = MNIST_ANN([10],[tf.nn.sigmoid],initializer_2)\n",
    "ann.train(train_data,train_labels,eval_data,eval_labels,batch_size=10,epochs=3)\n",
    "print (\"\\n\\nusing relu activation network performance with initialization_1\")\n",
    "ann = MNIST_ANN([10],[tf.nn.relu],initializer_1)\n",
    "ann.train(train_data,train_labels,eval_data,eval_labels,batch_size=10,epochs=3)\n",
    "print (\"\\n\\nusing tanh activation network performance with initialization_1\")\n",
    "ann = MNIST_ANN([10],[tf.nn.tanh],initializer_1)\n",
    "ann.train(train_data,train_labels,eval_data,eval_labels,batch_size=10,epochs=3)\n",
    "\n",
    "print (\"\\n\\nusing relu activation network performance with initialization_2\")\n",
    "ann = MNIST_ANN([10],[tf.nn.relu],initializer_2)\n",
    "ann.train(train_data,train_labels,eval_data,eval_labels,batch_size=10,epochs=3)\n",
    "print (\"\\n\\nusing tanh activation network performance with initialization_1\")\n",
    "ann = MNIST_ANN([10],[tf.nn.tanh],initializer_2)\n",
    "ann.train(train_data,train_labels,eval_data,eval_labels,batch_size=10,epochs=3)"
   ]
  },
  {
   "cell_type": "markdown",
   "metadata": {
    "colab_type": "text",
    "id": "KUbB2OBFxsuA"
   },
   "source": [
    "**Observation**:- \n",
    "When we use initializer_1 to initialize weight matrix our cost does not reduces in comparision to initializing weights with initializer_2. Moreover the accuracy with initializer_2 is better in compare to initializer_1, when we use 10 hidden neurons with sigmoid activation in both cases. \n",
    "\n",
    "**Reason**:-\n",
    "For initializer_1 the weight matrix has weight initialized randomly in range between [0,1]. So if we do summation of weights with input we get very large value. This value is fed to sigmoid which has property of mapping significantly larger input mapped to 1, while significanly negative value gets mapped to zero. \n",
    "If the desired value of activation function is opposite side from where it satuarated. Now during training when SGD tries to update the weight it is not able make significant change in output of activation function. Thus networks ablity to learn is hindered and it becomes slow.\n",
    "\n",
    "In initializer_2 we have multiplied a scaling factor of 0.01 to make sure that values of weight are near zero. We canot make weights to zero as then it is unable to break the symmetry. So in this case out network learns faster, accuracy is better and chances of saturation is minimized.\n",
    "\n",
    "**Observation**:-\n",
    "For relu and tanh the accuracy is more and cost reduces significantly when weights are initialized with initialization_2. With initializer_2 relu and tanh has faster convergence than sigmoid.\n",
    "\n",
    "**Reason**:-\n",
    "The sigmoid function is prone to vanishing gradient issues which the ReLU does not suffer as much. Morover ReLU that do not have compact domains and tend not to have saturation problems to the same degree."
   ]
  },
  {
   "cell_type": "markdown",
   "metadata": {
    "colab_type": "text",
    "id": "eysUpIUF5I2H"
   },
   "source": [
    "<b>2. Play around with different configurations of the system. Spend some time on <a href=\"https://playground.tensorflow.org/#activation=tanh&batchSize=10&dataset=circle&regDataset=reg-plane&learningRate=0.03&regularizationRate=0&noise=0&networkShape=4,2&seed=0.52239&showTestData=false&discretize=false&percTrainData=50&x=true&y=true&xTimesY=false&xSquared=false&ySquared=false&cosX=false&sinX=false&cosY=false&sinY=false&collectStats=false&problem=classification&initZero=false&hideText=false\"> Tensorflow Playground </a> to get a feel. Just demonstrate the performance of the system and make observations. No need to make any comments. </b>"
   ]
  },
  {
   "cell_type": "code",
   "execution_count": 10,
   "metadata": {
    "colab": {
     "autoexec": {
      "startup": false,
      "wait_interval": 0
     },
     "base_uri": "https://localhost:8080/",
     "height": 255
    },
    "colab_type": "code",
    "executionInfo": {
     "elapsed": 38624,
     "status": "ok",
     "timestamp": 1526608074318,
     "user": {
      "displayName": "Nikhil Dhirmalani",
      "photoUrl": "https://lh3.googleusercontent.com/a/default-user=s128",
      "userId": "117732879546167846741"
     },
     "user_tz": 180
    },
    "id": "CYr-ppoI5I2H",
    "outputId": "f3b1d099-86f1-4eb1-9441-7f72a0210a1b"
   },
   "outputs": [
    {
     "name": "stdout",
     "output_type": "stream",
     "text": [
      "Train accuracy: 0.793872714043\n",
      "Test accuracy: 0.794700026512\n",
      "Epoch 0: 4907.07815346\n",
      "Epoch 1: 3134.52599477\n",
      "Epoch 2: 2584.79183116\n",
      "Epoch 3: 2224.41481858\n",
      "Epoch 4: 1976.57729027\n",
      "Epoch 5: 1817.05124663\n",
      "Epoch 6: 1718.27467669\n",
      "Epoch 7: 1650.19419613\n",
      "Epoch 8: 1594.38904433\n",
      "Epoch 9: 1540.83657558\n",
      "Train accuracy: 0.909418165684\n",
      "Test accuracy: 0.901000022888\n"
     ]
    }
   ],
   "source": [
    "# Your code here.\n",
    "ann = MNIST_ANN([10,5],[tf.nn.relu,tf.nn.relu],initializer_2)\n",
    "ann.train(train_data,train_labels,eval_data,eval_labels,batch_size=10,epochs=10)\n"
   ]
  },
  {
   "cell_type": "code",
   "execution_count": 11,
   "metadata": {
    "colab": {
     "autoexec": {
      "startup": false,
      "wait_interval": 0
     },
     "base_uri": "https://localhost:8080/",
     "height": 255
    },
    "colab_type": "code",
    "executionInfo": {
     "elapsed": 39224,
     "status": "ok",
     "timestamp": 1526608113557,
     "user": {
      "displayName": "Nikhil Dhirmalani",
      "photoUrl": "https://lh3.googleusercontent.com/a/default-user=s128",
      "userId": "117732879546167846741"
     },
     "user_tz": 180
    },
    "id": "UTAmxA6s7fzi",
    "outputId": "79fed14d-349d-4f12-8f2d-d02a34f44ea7"
   },
   "outputs": [
    {
     "name": "stdout",
     "output_type": "stream",
     "text": [
      "Train accuracy: 0.816181838512\n",
      "Test accuracy: 0.810199975967\n",
      "Epoch 0: 4769.75287571\n",
      "Epoch 1: 2566.70410744\n",
      "Epoch 2: 2017.13873453\n",
      "Epoch 3: 1814.72325303\n",
      "Epoch 4: 1704.81400017\n",
      "Epoch 5: 1628.85116505\n",
      "Epoch 6: 1573.69350507\n",
      "Epoch 7: 1532.35536773\n",
      "Epoch 8: 1501.27642993\n",
      "Epoch 9: 1472.7861388\n",
      "Train accuracy: 0.917418181896\n",
      "Test accuracy: 0.90909999609\n"
     ]
    }
   ],
   "source": [
    "ann = MNIST_ANN([10,5],[tf.nn.tanh,tf.nn.relu],initializer_2)\n",
    "ann.train(train_data,train_labels,eval_data,eval_labels,batch_size=10,epochs=10)"
   ]
  },
  {
   "cell_type": "code",
   "execution_count": 12,
   "metadata": {
    "colab": {
     "autoexec": {
      "startup": false,
      "wait_interval": 0
     },
     "base_uri": "https://localhost:8080/",
     "height": 255
    },
    "colab_type": "code",
    "executionInfo": {
     "elapsed": 38534,
     "status": "ok",
     "timestamp": 1526608152106,
     "user": {
      "displayName": "Nikhil Dhirmalani",
      "photoUrl": "https://lh3.googleusercontent.com/a/default-user=s128",
      "userId": "117732879546167846741"
     },
     "user_tz": 180
    },
    "id": "ZPrrWJfa7irt",
    "outputId": "9cad583b-40fc-46bd-ee35-94f08cd0616b"
   },
   "outputs": [
    {
     "name": "stdout",
     "output_type": "stream",
     "text": [
      "Train accuracy: 0.868090927601\n",
      "Test accuracy: 0.870599985123\n",
      "Epoch 0: 5236.57056016\n",
      "Epoch 1: 2135.36352523\n",
      "Epoch 2: 1678.34501727\n",
      "Epoch 3: 1499.62137046\n",
      "Epoch 4: 1389.3789269\n",
      "Epoch 5: 1309.38536741\n",
      "Epoch 6: 1247.67877976\n",
      "Epoch 7: 1199.48158493\n",
      "Epoch 8: 1160.71434403\n",
      "Epoch 9: 1127.96620816\n",
      "Train accuracy: 0.936309099197\n",
      "Test accuracy: 0.927100002766\n"
     ]
    }
   ],
   "source": [
    "ann = MNIST_ANN([10,10],[tf.nn.sigmoid,tf.nn.tanh],initializer_2)\n",
    "ann.train(train_data,train_labels,eval_data,eval_labels,batch_size=10,epochs=10)"
   ]
  },
  {
   "cell_type": "markdown",
   "metadata": {
    "colab_type": "text",
    "id": "GE-NMOxC5I2J"
   },
   "source": [
    "<b>4. List the problems you faced while experimenting [Loss did not decrease, ran into NaNs, etc]. What conclusions did you make? </b>"
   ]
  },
  {
   "cell_type": "markdown",
   "metadata": {
    "colab_type": "text",
    "id": "rSzqaar0bEka"
   },
   "source": [
    "I had to change the dimesions of matrices a lot in order to correctly perform matrix operations.\n",
    "While implementing multilayer perceptron, I had to check suitable loss function and read a lot about loss function and how to implement it in tensorflow."
   ]
  },
  {
   "cell_type": "code",
   "execution_count": 0,
   "metadata": {
    "colab": {
     "autoexec": {
      "startup": false,
      "wait_interval": 0
     }
    },
    "colab_type": "code",
    "collapsed": true,
    "id": "cAgyJK2Lbtd6"
   },
   "outputs": [],
   "source": []
  }
 ],
 "metadata": {
  "colab": {
   "collapsed_sections": [],
   "default_view": {},
   "name": "DeepLearningAssignment1.ipynb",
   "provenance": [
    {
     "file_id": "1hMHUUbBDjoXO70Lqv-GyDOc1NbSsb4cu",
     "timestamp": 1526355325040
    }
   ],
   "version": "0.3.2",
   "views": {}
  },
  "kernelspec": {
   "display_name": "Python 2",
   "language": "python",
   "name": "python2"
  },
  "language_info": {
   "codemirror_mode": {
    "name": "ipython",
    "version": 2
   },
   "file_extension": ".py",
   "mimetype": "text/x-python",
   "name": "python",
   "nbconvert_exporter": "python",
   "pygments_lexer": "ipython2",
   "version": "2.7.15"
  }
 },
 "nbformat": 4,
 "nbformat_minor": 1
}
